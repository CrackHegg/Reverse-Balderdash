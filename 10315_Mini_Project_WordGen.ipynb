{
  "nbformat": 4,
  "nbformat_minor": 0,
  "metadata": {
    "colab": {
      "provenance": [],
      "collapsed_sections": [
        "7ncgBipgStjU",
        "nBev-T1QLytT",
        "rVk4sUZiEyYN",
        "5dIYM8XbEwxb",
        "jq-cpWxKL-hL",
        "jfvr4AG3hfHJ",
        "KR-fDrSpq8hu",
        "DSzUX3kIK3wK",
        "ULwL_UIvoFvm",
        "AG_yItBjwrPM",
        "DnWChk8E9Abr"
      ],
      "include_colab_link": true
    },
    "kernelspec": {
      "name": "python3",
      "display_name": "Python 3"
    },
    "language_info": {
      "name": "python"
    },
    "widgets": {
      "application/vnd.jupyter.widget-state+json": {
        "63502781b06c478a959f98916f439e19": {
          "model_module": "@jupyter-widgets/controls",
          "model_name": "HBoxModel",
          "model_module_version": "1.5.0",
          "state": {
            "_dom_classes": [],
            "_model_module": "@jupyter-widgets/controls",
            "_model_module_version": "1.5.0",
            "_model_name": "HBoxModel",
            "_view_count": null,
            "_view_module": "@jupyter-widgets/controls",
            "_view_module_version": "1.5.0",
            "_view_name": "HBoxView",
            "box_style": "",
            "children": [
              "IPY_MODEL_77ce7780443f4553be7792510f6a7fd8",
              "IPY_MODEL_98ac16e1f22e4436a9b7e5ab0d6c1d16",
              "IPY_MODEL_c063e04522e64d13b3af636d293c90b8"
            ],
            "layout": "IPY_MODEL_22cc02b9a5de45fb9611cba3dfcc01d1"
          }
        },
        "77ce7780443f4553be7792510f6a7fd8": {
          "model_module": "@jupyter-widgets/controls",
          "model_name": "HTMLModel",
          "model_module_version": "1.5.0",
          "state": {
            "_dom_classes": [],
            "_model_module": "@jupyter-widgets/controls",
            "_model_module_version": "1.5.0",
            "_model_name": "HTMLModel",
            "_view_count": null,
            "_view_module": "@jupyter-widgets/controls",
            "_view_module_version": "1.5.0",
            "_view_name": "HTMLView",
            "description": "",
            "description_tooltip": null,
            "layout": "IPY_MODEL_9ec7187f1fdd4b2d84a1077764ba2d0c",
            "placeholder": "​",
            "style": "IPY_MODEL_636c7341a81346b9832e984a29b1174a",
            "value": "tokenizer_config.json: 100%"
          }
        },
        "98ac16e1f22e4436a9b7e5ab0d6c1d16": {
          "model_module": "@jupyter-widgets/controls",
          "model_name": "FloatProgressModel",
          "model_module_version": "1.5.0",
          "state": {
            "_dom_classes": [],
            "_model_module": "@jupyter-widgets/controls",
            "_model_module_version": "1.5.0",
            "_model_name": "FloatProgressModel",
            "_view_count": null,
            "_view_module": "@jupyter-widgets/controls",
            "_view_module_version": "1.5.0",
            "_view_name": "ProgressView",
            "bar_style": "success",
            "description": "",
            "description_tooltip": null,
            "layout": "IPY_MODEL_f86cbddf193947089382d0b35f5d4cf3",
            "max": 26,
            "min": 0,
            "orientation": "horizontal",
            "style": "IPY_MODEL_0a5f735cc53c414980028a87e75f8df4",
            "value": 26
          }
        },
        "c063e04522e64d13b3af636d293c90b8": {
          "model_module": "@jupyter-widgets/controls",
          "model_name": "HTMLModel",
          "model_module_version": "1.5.0",
          "state": {
            "_dom_classes": [],
            "_model_module": "@jupyter-widgets/controls",
            "_model_module_version": "1.5.0",
            "_model_name": "HTMLModel",
            "_view_count": null,
            "_view_module": "@jupyter-widgets/controls",
            "_view_module_version": "1.5.0",
            "_view_name": "HTMLView",
            "description": "",
            "description_tooltip": null,
            "layout": "IPY_MODEL_1edf2b5647124f759d2523b14e64f7f3",
            "placeholder": "​",
            "style": "IPY_MODEL_cb2b91c3262645d6bc6451a3accda992",
            "value": " 26.0/26.0 [00:00&lt;00:00, 1.75kB/s]"
          }
        },
        "22cc02b9a5de45fb9611cba3dfcc01d1": {
          "model_module": "@jupyter-widgets/base",
          "model_name": "LayoutModel",
          "model_module_version": "1.2.0",
          "state": {
            "_model_module": "@jupyter-widgets/base",
            "_model_module_version": "1.2.0",
            "_model_name": "LayoutModel",
            "_view_count": null,
            "_view_module": "@jupyter-widgets/base",
            "_view_module_version": "1.2.0",
            "_view_name": "LayoutView",
            "align_content": null,
            "align_items": null,
            "align_self": null,
            "border": null,
            "bottom": null,
            "display": null,
            "flex": null,
            "flex_flow": null,
            "grid_area": null,
            "grid_auto_columns": null,
            "grid_auto_flow": null,
            "grid_auto_rows": null,
            "grid_column": null,
            "grid_gap": null,
            "grid_row": null,
            "grid_template_areas": null,
            "grid_template_columns": null,
            "grid_template_rows": null,
            "height": null,
            "justify_content": null,
            "justify_items": null,
            "left": null,
            "margin": null,
            "max_height": null,
            "max_width": null,
            "min_height": null,
            "min_width": null,
            "object_fit": null,
            "object_position": null,
            "order": null,
            "overflow": null,
            "overflow_x": null,
            "overflow_y": null,
            "padding": null,
            "right": null,
            "top": null,
            "visibility": null,
            "width": null
          }
        },
        "9ec7187f1fdd4b2d84a1077764ba2d0c": {
          "model_module": "@jupyter-widgets/base",
          "model_name": "LayoutModel",
          "model_module_version": "1.2.0",
          "state": {
            "_model_module": "@jupyter-widgets/base",
            "_model_module_version": "1.2.0",
            "_model_name": "LayoutModel",
            "_view_count": null,
            "_view_module": "@jupyter-widgets/base",
            "_view_module_version": "1.2.0",
            "_view_name": "LayoutView",
            "align_content": null,
            "align_items": null,
            "align_self": null,
            "border": null,
            "bottom": null,
            "display": null,
            "flex": null,
            "flex_flow": null,
            "grid_area": null,
            "grid_auto_columns": null,
            "grid_auto_flow": null,
            "grid_auto_rows": null,
            "grid_column": null,
            "grid_gap": null,
            "grid_row": null,
            "grid_template_areas": null,
            "grid_template_columns": null,
            "grid_template_rows": null,
            "height": null,
            "justify_content": null,
            "justify_items": null,
            "left": null,
            "margin": null,
            "max_height": null,
            "max_width": null,
            "min_height": null,
            "min_width": null,
            "object_fit": null,
            "object_position": null,
            "order": null,
            "overflow": null,
            "overflow_x": null,
            "overflow_y": null,
            "padding": null,
            "right": null,
            "top": null,
            "visibility": null,
            "width": null
          }
        },
        "636c7341a81346b9832e984a29b1174a": {
          "model_module": "@jupyter-widgets/controls",
          "model_name": "DescriptionStyleModel",
          "model_module_version": "1.5.0",
          "state": {
            "_model_module": "@jupyter-widgets/controls",
            "_model_module_version": "1.5.0",
            "_model_name": "DescriptionStyleModel",
            "_view_count": null,
            "_view_module": "@jupyter-widgets/base",
            "_view_module_version": "1.2.0",
            "_view_name": "StyleView",
            "description_width": ""
          }
        },
        "f86cbddf193947089382d0b35f5d4cf3": {
          "model_module": "@jupyter-widgets/base",
          "model_name": "LayoutModel",
          "model_module_version": "1.2.0",
          "state": {
            "_model_module": "@jupyter-widgets/base",
            "_model_module_version": "1.2.0",
            "_model_name": "LayoutModel",
            "_view_count": null,
            "_view_module": "@jupyter-widgets/base",
            "_view_module_version": "1.2.0",
            "_view_name": "LayoutView",
            "align_content": null,
            "align_items": null,
            "align_self": null,
            "border": null,
            "bottom": null,
            "display": null,
            "flex": null,
            "flex_flow": null,
            "grid_area": null,
            "grid_auto_columns": null,
            "grid_auto_flow": null,
            "grid_auto_rows": null,
            "grid_column": null,
            "grid_gap": null,
            "grid_row": null,
            "grid_template_areas": null,
            "grid_template_columns": null,
            "grid_template_rows": null,
            "height": null,
            "justify_content": null,
            "justify_items": null,
            "left": null,
            "margin": null,
            "max_height": null,
            "max_width": null,
            "min_height": null,
            "min_width": null,
            "object_fit": null,
            "object_position": null,
            "order": null,
            "overflow": null,
            "overflow_x": null,
            "overflow_y": null,
            "padding": null,
            "right": null,
            "top": null,
            "visibility": null,
            "width": null
          }
        },
        "0a5f735cc53c414980028a87e75f8df4": {
          "model_module": "@jupyter-widgets/controls",
          "model_name": "ProgressStyleModel",
          "model_module_version": "1.5.0",
          "state": {
            "_model_module": "@jupyter-widgets/controls",
            "_model_module_version": "1.5.0",
            "_model_name": "ProgressStyleModel",
            "_view_count": null,
            "_view_module": "@jupyter-widgets/base",
            "_view_module_version": "1.2.0",
            "_view_name": "StyleView",
            "bar_color": null,
            "description_width": ""
          }
        },
        "1edf2b5647124f759d2523b14e64f7f3": {
          "model_module": "@jupyter-widgets/base",
          "model_name": "LayoutModel",
          "model_module_version": "1.2.0",
          "state": {
            "_model_module": "@jupyter-widgets/base",
            "_model_module_version": "1.2.0",
            "_model_name": "LayoutModel",
            "_view_count": null,
            "_view_module": "@jupyter-widgets/base",
            "_view_module_version": "1.2.0",
            "_view_name": "LayoutView",
            "align_content": null,
            "align_items": null,
            "align_self": null,
            "border": null,
            "bottom": null,
            "display": null,
            "flex": null,
            "flex_flow": null,
            "grid_area": null,
            "grid_auto_columns": null,
            "grid_auto_flow": null,
            "grid_auto_rows": null,
            "grid_column": null,
            "grid_gap": null,
            "grid_row": null,
            "grid_template_areas": null,
            "grid_template_columns": null,
            "grid_template_rows": null,
            "height": null,
            "justify_content": null,
            "justify_items": null,
            "left": null,
            "margin": null,
            "max_height": null,
            "max_width": null,
            "min_height": null,
            "min_width": null,
            "object_fit": null,
            "object_position": null,
            "order": null,
            "overflow": null,
            "overflow_x": null,
            "overflow_y": null,
            "padding": null,
            "right": null,
            "top": null,
            "visibility": null,
            "width": null
          }
        },
        "cb2b91c3262645d6bc6451a3accda992": {
          "model_module": "@jupyter-widgets/controls",
          "model_name": "DescriptionStyleModel",
          "model_module_version": "1.5.0",
          "state": {
            "_model_module": "@jupyter-widgets/controls",
            "_model_module_version": "1.5.0",
            "_model_name": "DescriptionStyleModel",
            "_view_count": null,
            "_view_module": "@jupyter-widgets/base",
            "_view_module_version": "1.2.0",
            "_view_name": "StyleView",
            "description_width": ""
          }
        },
        "399f467b5b75418787d7be5934ccb21c": {
          "model_module": "@jupyter-widgets/controls",
          "model_name": "HBoxModel",
          "model_module_version": "1.5.0",
          "state": {
            "_dom_classes": [],
            "_model_module": "@jupyter-widgets/controls",
            "_model_module_version": "1.5.0",
            "_model_name": "HBoxModel",
            "_view_count": null,
            "_view_module": "@jupyter-widgets/controls",
            "_view_module_version": "1.5.0",
            "_view_name": "HBoxView",
            "box_style": "",
            "children": [
              "IPY_MODEL_efadba51993b454eaf676f9354246617",
              "IPY_MODEL_40fe43689f80477c92f6e95ac296a39e",
              "IPY_MODEL_b8bcda3e85ca4b31b26dc978654a68bb"
            ],
            "layout": "IPY_MODEL_c0e781fcbace42d1be99b304cf9dd6d0"
          }
        },
        "efadba51993b454eaf676f9354246617": {
          "model_module": "@jupyter-widgets/controls",
          "model_name": "HTMLModel",
          "model_module_version": "1.5.0",
          "state": {
            "_dom_classes": [],
            "_model_module": "@jupyter-widgets/controls",
            "_model_module_version": "1.5.0",
            "_model_name": "HTMLModel",
            "_view_count": null,
            "_view_module": "@jupyter-widgets/controls",
            "_view_module_version": "1.5.0",
            "_view_name": "HTMLView",
            "description": "",
            "description_tooltip": null,
            "layout": "IPY_MODEL_64994ae6bc124b838c193f869fe56c57",
            "placeholder": "​",
            "style": "IPY_MODEL_1fb6fb2f38854ec6a4c5ce789c7c6dea",
            "value": "vocab.json: 100%"
          }
        },
        "40fe43689f80477c92f6e95ac296a39e": {
          "model_module": "@jupyter-widgets/controls",
          "model_name": "FloatProgressModel",
          "model_module_version": "1.5.0",
          "state": {
            "_dom_classes": [],
            "_model_module": "@jupyter-widgets/controls",
            "_model_module_version": "1.5.0",
            "_model_name": "FloatProgressModel",
            "_view_count": null,
            "_view_module": "@jupyter-widgets/controls",
            "_view_module_version": "1.5.0",
            "_view_name": "ProgressView",
            "bar_style": "success",
            "description": "",
            "description_tooltip": null,
            "layout": "IPY_MODEL_dc918a39c4ab496eb86f6c92bd44fe37",
            "max": 1042301,
            "min": 0,
            "orientation": "horizontal",
            "style": "IPY_MODEL_75b83ac8cc6b40d08629edd47dac6c75",
            "value": 1042301
          }
        },
        "b8bcda3e85ca4b31b26dc978654a68bb": {
          "model_module": "@jupyter-widgets/controls",
          "model_name": "HTMLModel",
          "model_module_version": "1.5.0",
          "state": {
            "_dom_classes": [],
            "_model_module": "@jupyter-widgets/controls",
            "_model_module_version": "1.5.0",
            "_model_name": "HTMLModel",
            "_view_count": null,
            "_view_module": "@jupyter-widgets/controls",
            "_view_module_version": "1.5.0",
            "_view_name": "HTMLView",
            "description": "",
            "description_tooltip": null,
            "layout": "IPY_MODEL_f83d8c774e664d0b936e2f17987512ba",
            "placeholder": "​",
            "style": "IPY_MODEL_f5d1cf93ead444049727ec616a8cd92c",
            "value": " 1.04M/1.04M [00:00&lt;00:00, 6.00MB/s]"
          }
        },
        "c0e781fcbace42d1be99b304cf9dd6d0": {
          "model_module": "@jupyter-widgets/base",
          "model_name": "LayoutModel",
          "model_module_version": "1.2.0",
          "state": {
            "_model_module": "@jupyter-widgets/base",
            "_model_module_version": "1.2.0",
            "_model_name": "LayoutModel",
            "_view_count": null,
            "_view_module": "@jupyter-widgets/base",
            "_view_module_version": "1.2.0",
            "_view_name": "LayoutView",
            "align_content": null,
            "align_items": null,
            "align_self": null,
            "border": null,
            "bottom": null,
            "display": null,
            "flex": null,
            "flex_flow": null,
            "grid_area": null,
            "grid_auto_columns": null,
            "grid_auto_flow": null,
            "grid_auto_rows": null,
            "grid_column": null,
            "grid_gap": null,
            "grid_row": null,
            "grid_template_areas": null,
            "grid_template_columns": null,
            "grid_template_rows": null,
            "height": null,
            "justify_content": null,
            "justify_items": null,
            "left": null,
            "margin": null,
            "max_height": null,
            "max_width": null,
            "min_height": null,
            "min_width": null,
            "object_fit": null,
            "object_position": null,
            "order": null,
            "overflow": null,
            "overflow_x": null,
            "overflow_y": null,
            "padding": null,
            "right": null,
            "top": null,
            "visibility": null,
            "width": null
          }
        },
        "64994ae6bc124b838c193f869fe56c57": {
          "model_module": "@jupyter-widgets/base",
          "model_name": "LayoutModel",
          "model_module_version": "1.2.0",
          "state": {
            "_model_module": "@jupyter-widgets/base",
            "_model_module_version": "1.2.0",
            "_model_name": "LayoutModel",
            "_view_count": null,
            "_view_module": "@jupyter-widgets/base",
            "_view_module_version": "1.2.0",
            "_view_name": "LayoutView",
            "align_content": null,
            "align_items": null,
            "align_self": null,
            "border": null,
            "bottom": null,
            "display": null,
            "flex": null,
            "flex_flow": null,
            "grid_area": null,
            "grid_auto_columns": null,
            "grid_auto_flow": null,
            "grid_auto_rows": null,
            "grid_column": null,
            "grid_gap": null,
            "grid_row": null,
            "grid_template_areas": null,
            "grid_template_columns": null,
            "grid_template_rows": null,
            "height": null,
            "justify_content": null,
            "justify_items": null,
            "left": null,
            "margin": null,
            "max_height": null,
            "max_width": null,
            "min_height": null,
            "min_width": null,
            "object_fit": null,
            "object_position": null,
            "order": null,
            "overflow": null,
            "overflow_x": null,
            "overflow_y": null,
            "padding": null,
            "right": null,
            "top": null,
            "visibility": null,
            "width": null
          }
        },
        "1fb6fb2f38854ec6a4c5ce789c7c6dea": {
          "model_module": "@jupyter-widgets/controls",
          "model_name": "DescriptionStyleModel",
          "model_module_version": "1.5.0",
          "state": {
            "_model_module": "@jupyter-widgets/controls",
            "_model_module_version": "1.5.0",
            "_model_name": "DescriptionStyleModel",
            "_view_count": null,
            "_view_module": "@jupyter-widgets/base",
            "_view_module_version": "1.2.0",
            "_view_name": "StyleView",
            "description_width": ""
          }
        },
        "dc918a39c4ab496eb86f6c92bd44fe37": {
          "model_module": "@jupyter-widgets/base",
          "model_name": "LayoutModel",
          "model_module_version": "1.2.0",
          "state": {
            "_model_module": "@jupyter-widgets/base",
            "_model_module_version": "1.2.0",
            "_model_name": "LayoutModel",
            "_view_count": null,
            "_view_module": "@jupyter-widgets/base",
            "_view_module_version": "1.2.0",
            "_view_name": "LayoutView",
            "align_content": null,
            "align_items": null,
            "align_self": null,
            "border": null,
            "bottom": null,
            "display": null,
            "flex": null,
            "flex_flow": null,
            "grid_area": null,
            "grid_auto_columns": null,
            "grid_auto_flow": null,
            "grid_auto_rows": null,
            "grid_column": null,
            "grid_gap": null,
            "grid_row": null,
            "grid_template_areas": null,
            "grid_template_columns": null,
            "grid_template_rows": null,
            "height": null,
            "justify_content": null,
            "justify_items": null,
            "left": null,
            "margin": null,
            "max_height": null,
            "max_width": null,
            "min_height": null,
            "min_width": null,
            "object_fit": null,
            "object_position": null,
            "order": null,
            "overflow": null,
            "overflow_x": null,
            "overflow_y": null,
            "padding": null,
            "right": null,
            "top": null,
            "visibility": null,
            "width": null
          }
        },
        "75b83ac8cc6b40d08629edd47dac6c75": {
          "model_module": "@jupyter-widgets/controls",
          "model_name": "ProgressStyleModel",
          "model_module_version": "1.5.0",
          "state": {
            "_model_module": "@jupyter-widgets/controls",
            "_model_module_version": "1.5.0",
            "_model_name": "ProgressStyleModel",
            "_view_count": null,
            "_view_module": "@jupyter-widgets/base",
            "_view_module_version": "1.2.0",
            "_view_name": "StyleView",
            "bar_color": null,
            "description_width": ""
          }
        },
        "f83d8c774e664d0b936e2f17987512ba": {
          "model_module": "@jupyter-widgets/base",
          "model_name": "LayoutModel",
          "model_module_version": "1.2.0",
          "state": {
            "_model_module": "@jupyter-widgets/base",
            "_model_module_version": "1.2.0",
            "_model_name": "LayoutModel",
            "_view_count": null,
            "_view_module": "@jupyter-widgets/base",
            "_view_module_version": "1.2.0",
            "_view_name": "LayoutView",
            "align_content": null,
            "align_items": null,
            "align_self": null,
            "border": null,
            "bottom": null,
            "display": null,
            "flex": null,
            "flex_flow": null,
            "grid_area": null,
            "grid_auto_columns": null,
            "grid_auto_flow": null,
            "grid_auto_rows": null,
            "grid_column": null,
            "grid_gap": null,
            "grid_row": null,
            "grid_template_areas": null,
            "grid_template_columns": null,
            "grid_template_rows": null,
            "height": null,
            "justify_content": null,
            "justify_items": null,
            "left": null,
            "margin": null,
            "max_height": null,
            "max_width": null,
            "min_height": null,
            "min_width": null,
            "object_fit": null,
            "object_position": null,
            "order": null,
            "overflow": null,
            "overflow_x": null,
            "overflow_y": null,
            "padding": null,
            "right": null,
            "top": null,
            "visibility": null,
            "width": null
          }
        },
        "f5d1cf93ead444049727ec616a8cd92c": {
          "model_module": "@jupyter-widgets/controls",
          "model_name": "DescriptionStyleModel",
          "model_module_version": "1.5.0",
          "state": {
            "_model_module": "@jupyter-widgets/controls",
            "_model_module_version": "1.5.0",
            "_model_name": "DescriptionStyleModel",
            "_view_count": null,
            "_view_module": "@jupyter-widgets/base",
            "_view_module_version": "1.2.0",
            "_view_name": "StyleView",
            "description_width": ""
          }
        },
        "a0a3d6859469487fb6b98fc0a68fa586": {
          "model_module": "@jupyter-widgets/controls",
          "model_name": "HBoxModel",
          "model_module_version": "1.5.0",
          "state": {
            "_dom_classes": [],
            "_model_module": "@jupyter-widgets/controls",
            "_model_module_version": "1.5.0",
            "_model_name": "HBoxModel",
            "_view_count": null,
            "_view_module": "@jupyter-widgets/controls",
            "_view_module_version": "1.5.0",
            "_view_name": "HBoxView",
            "box_style": "",
            "children": [
              "IPY_MODEL_5d45c786559644b4b19e06f62f53875b",
              "IPY_MODEL_d7715aa6ad084e60998b44c1239787f8",
              "IPY_MODEL_a294fa32e9db4f78a3b92d035d7cce78"
            ],
            "layout": "IPY_MODEL_0d5bdb2d9dbf49e6bc76710e0366c1ce"
          }
        },
        "5d45c786559644b4b19e06f62f53875b": {
          "model_module": "@jupyter-widgets/controls",
          "model_name": "HTMLModel",
          "model_module_version": "1.5.0",
          "state": {
            "_dom_classes": [],
            "_model_module": "@jupyter-widgets/controls",
            "_model_module_version": "1.5.0",
            "_model_name": "HTMLModel",
            "_view_count": null,
            "_view_module": "@jupyter-widgets/controls",
            "_view_module_version": "1.5.0",
            "_view_name": "HTMLView",
            "description": "",
            "description_tooltip": null,
            "layout": "IPY_MODEL_bb97760525bf4643a27f07be314b94ce",
            "placeholder": "​",
            "style": "IPY_MODEL_43905a883df148b79789a6efbc0d0bd5",
            "value": "merges.txt: 100%"
          }
        },
        "d7715aa6ad084e60998b44c1239787f8": {
          "model_module": "@jupyter-widgets/controls",
          "model_name": "FloatProgressModel",
          "model_module_version": "1.5.0",
          "state": {
            "_dom_classes": [],
            "_model_module": "@jupyter-widgets/controls",
            "_model_module_version": "1.5.0",
            "_model_name": "FloatProgressModel",
            "_view_count": null,
            "_view_module": "@jupyter-widgets/controls",
            "_view_module_version": "1.5.0",
            "_view_name": "ProgressView",
            "bar_style": "success",
            "description": "",
            "description_tooltip": null,
            "layout": "IPY_MODEL_09cba5e74cb443efbb2f11c90d96ce8c",
            "max": 456318,
            "min": 0,
            "orientation": "horizontal",
            "style": "IPY_MODEL_74766f6835fc4ae9b818c37b12421613",
            "value": 456318
          }
        },
        "a294fa32e9db4f78a3b92d035d7cce78": {
          "model_module": "@jupyter-widgets/controls",
          "model_name": "HTMLModel",
          "model_module_version": "1.5.0",
          "state": {
            "_dom_classes": [],
            "_model_module": "@jupyter-widgets/controls",
            "_model_module_version": "1.5.0",
            "_model_name": "HTMLModel",
            "_view_count": null,
            "_view_module": "@jupyter-widgets/controls",
            "_view_module_version": "1.5.0",
            "_view_name": "HTMLView",
            "description": "",
            "description_tooltip": null,
            "layout": "IPY_MODEL_867ce390f0af43e098a17f135b4a503e",
            "placeholder": "​",
            "style": "IPY_MODEL_670462e2d17340a684aef32e2b2c5e5f",
            "value": " 456k/456k [00:00&lt;00:00, 15.6MB/s]"
          }
        },
        "0d5bdb2d9dbf49e6bc76710e0366c1ce": {
          "model_module": "@jupyter-widgets/base",
          "model_name": "LayoutModel",
          "model_module_version": "1.2.0",
          "state": {
            "_model_module": "@jupyter-widgets/base",
            "_model_module_version": "1.2.0",
            "_model_name": "LayoutModel",
            "_view_count": null,
            "_view_module": "@jupyter-widgets/base",
            "_view_module_version": "1.2.0",
            "_view_name": "LayoutView",
            "align_content": null,
            "align_items": null,
            "align_self": null,
            "border": null,
            "bottom": null,
            "display": null,
            "flex": null,
            "flex_flow": null,
            "grid_area": null,
            "grid_auto_columns": null,
            "grid_auto_flow": null,
            "grid_auto_rows": null,
            "grid_column": null,
            "grid_gap": null,
            "grid_row": null,
            "grid_template_areas": null,
            "grid_template_columns": null,
            "grid_template_rows": null,
            "height": null,
            "justify_content": null,
            "justify_items": null,
            "left": null,
            "margin": null,
            "max_height": null,
            "max_width": null,
            "min_height": null,
            "min_width": null,
            "object_fit": null,
            "object_position": null,
            "order": null,
            "overflow": null,
            "overflow_x": null,
            "overflow_y": null,
            "padding": null,
            "right": null,
            "top": null,
            "visibility": null,
            "width": null
          }
        },
        "bb97760525bf4643a27f07be314b94ce": {
          "model_module": "@jupyter-widgets/base",
          "model_name": "LayoutModel",
          "model_module_version": "1.2.0",
          "state": {
            "_model_module": "@jupyter-widgets/base",
            "_model_module_version": "1.2.0",
            "_model_name": "LayoutModel",
            "_view_count": null,
            "_view_module": "@jupyter-widgets/base",
            "_view_module_version": "1.2.0",
            "_view_name": "LayoutView",
            "align_content": null,
            "align_items": null,
            "align_self": null,
            "border": null,
            "bottom": null,
            "display": null,
            "flex": null,
            "flex_flow": null,
            "grid_area": null,
            "grid_auto_columns": null,
            "grid_auto_flow": null,
            "grid_auto_rows": null,
            "grid_column": null,
            "grid_gap": null,
            "grid_row": null,
            "grid_template_areas": null,
            "grid_template_columns": null,
            "grid_template_rows": null,
            "height": null,
            "justify_content": null,
            "justify_items": null,
            "left": null,
            "margin": null,
            "max_height": null,
            "max_width": null,
            "min_height": null,
            "min_width": null,
            "object_fit": null,
            "object_position": null,
            "order": null,
            "overflow": null,
            "overflow_x": null,
            "overflow_y": null,
            "padding": null,
            "right": null,
            "top": null,
            "visibility": null,
            "width": null
          }
        },
        "43905a883df148b79789a6efbc0d0bd5": {
          "model_module": "@jupyter-widgets/controls",
          "model_name": "DescriptionStyleModel",
          "model_module_version": "1.5.0",
          "state": {
            "_model_module": "@jupyter-widgets/controls",
            "_model_module_version": "1.5.0",
            "_model_name": "DescriptionStyleModel",
            "_view_count": null,
            "_view_module": "@jupyter-widgets/base",
            "_view_module_version": "1.2.0",
            "_view_name": "StyleView",
            "description_width": ""
          }
        },
        "09cba5e74cb443efbb2f11c90d96ce8c": {
          "model_module": "@jupyter-widgets/base",
          "model_name": "LayoutModel",
          "model_module_version": "1.2.0",
          "state": {
            "_model_module": "@jupyter-widgets/base",
            "_model_module_version": "1.2.0",
            "_model_name": "LayoutModel",
            "_view_count": null,
            "_view_module": "@jupyter-widgets/base",
            "_view_module_version": "1.2.0",
            "_view_name": "LayoutView",
            "align_content": null,
            "align_items": null,
            "align_self": null,
            "border": null,
            "bottom": null,
            "display": null,
            "flex": null,
            "flex_flow": null,
            "grid_area": null,
            "grid_auto_columns": null,
            "grid_auto_flow": null,
            "grid_auto_rows": null,
            "grid_column": null,
            "grid_gap": null,
            "grid_row": null,
            "grid_template_areas": null,
            "grid_template_columns": null,
            "grid_template_rows": null,
            "height": null,
            "justify_content": null,
            "justify_items": null,
            "left": null,
            "margin": null,
            "max_height": null,
            "max_width": null,
            "min_height": null,
            "min_width": null,
            "object_fit": null,
            "object_position": null,
            "order": null,
            "overflow": null,
            "overflow_x": null,
            "overflow_y": null,
            "padding": null,
            "right": null,
            "top": null,
            "visibility": null,
            "width": null
          }
        },
        "74766f6835fc4ae9b818c37b12421613": {
          "model_module": "@jupyter-widgets/controls",
          "model_name": "ProgressStyleModel",
          "model_module_version": "1.5.0",
          "state": {
            "_model_module": "@jupyter-widgets/controls",
            "_model_module_version": "1.5.0",
            "_model_name": "ProgressStyleModel",
            "_view_count": null,
            "_view_module": "@jupyter-widgets/base",
            "_view_module_version": "1.2.0",
            "_view_name": "StyleView",
            "bar_color": null,
            "description_width": ""
          }
        },
        "867ce390f0af43e098a17f135b4a503e": {
          "model_module": "@jupyter-widgets/base",
          "model_name": "LayoutModel",
          "model_module_version": "1.2.0",
          "state": {
            "_model_module": "@jupyter-widgets/base",
            "_model_module_version": "1.2.0",
            "_model_name": "LayoutModel",
            "_view_count": null,
            "_view_module": "@jupyter-widgets/base",
            "_view_module_version": "1.2.0",
            "_view_name": "LayoutView",
            "align_content": null,
            "align_items": null,
            "align_self": null,
            "border": null,
            "bottom": null,
            "display": null,
            "flex": null,
            "flex_flow": null,
            "grid_area": null,
            "grid_auto_columns": null,
            "grid_auto_flow": null,
            "grid_auto_rows": null,
            "grid_column": null,
            "grid_gap": null,
            "grid_row": null,
            "grid_template_areas": null,
            "grid_template_columns": null,
            "grid_template_rows": null,
            "height": null,
            "justify_content": null,
            "justify_items": null,
            "left": null,
            "margin": null,
            "max_height": null,
            "max_width": null,
            "min_height": null,
            "min_width": null,
            "object_fit": null,
            "object_position": null,
            "order": null,
            "overflow": null,
            "overflow_x": null,
            "overflow_y": null,
            "padding": null,
            "right": null,
            "top": null,
            "visibility": null,
            "width": null
          }
        },
        "670462e2d17340a684aef32e2b2c5e5f": {
          "model_module": "@jupyter-widgets/controls",
          "model_name": "DescriptionStyleModel",
          "model_module_version": "1.5.0",
          "state": {
            "_model_module": "@jupyter-widgets/controls",
            "_model_module_version": "1.5.0",
            "_model_name": "DescriptionStyleModel",
            "_view_count": null,
            "_view_module": "@jupyter-widgets/base",
            "_view_module_version": "1.2.0",
            "_view_name": "StyleView",
            "description_width": ""
          }
        },
        "722fa2f3b178488db710a64bc7be0bed": {
          "model_module": "@jupyter-widgets/controls",
          "model_name": "HBoxModel",
          "model_module_version": "1.5.0",
          "state": {
            "_dom_classes": [],
            "_model_module": "@jupyter-widgets/controls",
            "_model_module_version": "1.5.0",
            "_model_name": "HBoxModel",
            "_view_count": null,
            "_view_module": "@jupyter-widgets/controls",
            "_view_module_version": "1.5.0",
            "_view_name": "HBoxView",
            "box_style": "",
            "children": [
              "IPY_MODEL_569890be0b144e2da2778183f8334ae4",
              "IPY_MODEL_d627021f33e04c23994e2117d72b4065",
              "IPY_MODEL_89f054871da44d5da79a6de978bfa0c2"
            ],
            "layout": "IPY_MODEL_be73b8baadc8413786d596e532a9cf66"
          }
        },
        "569890be0b144e2da2778183f8334ae4": {
          "model_module": "@jupyter-widgets/controls",
          "model_name": "HTMLModel",
          "model_module_version": "1.5.0",
          "state": {
            "_dom_classes": [],
            "_model_module": "@jupyter-widgets/controls",
            "_model_module_version": "1.5.0",
            "_model_name": "HTMLModel",
            "_view_count": null,
            "_view_module": "@jupyter-widgets/controls",
            "_view_module_version": "1.5.0",
            "_view_name": "HTMLView",
            "description": "",
            "description_tooltip": null,
            "layout": "IPY_MODEL_852af6d36b4c409f9f9b7a7287cb4ecf",
            "placeholder": "​",
            "style": "IPY_MODEL_29b7587344b448a0b3d2ddb553633c00",
            "value": "tokenizer.json: 100%"
          }
        },
        "d627021f33e04c23994e2117d72b4065": {
          "model_module": "@jupyter-widgets/controls",
          "model_name": "FloatProgressModel",
          "model_module_version": "1.5.0",
          "state": {
            "_dom_classes": [],
            "_model_module": "@jupyter-widgets/controls",
            "_model_module_version": "1.5.0",
            "_model_name": "FloatProgressModel",
            "_view_count": null,
            "_view_module": "@jupyter-widgets/controls",
            "_view_module_version": "1.5.0",
            "_view_name": "ProgressView",
            "bar_style": "success",
            "description": "",
            "description_tooltip": null,
            "layout": "IPY_MODEL_0b68085968d24f1ba1b95acf227a1c2d",
            "max": 1355256,
            "min": 0,
            "orientation": "horizontal",
            "style": "IPY_MODEL_abe297c35df54d1ea4f485f7221e244f",
            "value": 1355256
          }
        },
        "89f054871da44d5da79a6de978bfa0c2": {
          "model_module": "@jupyter-widgets/controls",
          "model_name": "HTMLModel",
          "model_module_version": "1.5.0",
          "state": {
            "_dom_classes": [],
            "_model_module": "@jupyter-widgets/controls",
            "_model_module_version": "1.5.0",
            "_model_name": "HTMLModel",
            "_view_count": null,
            "_view_module": "@jupyter-widgets/controls",
            "_view_module_version": "1.5.0",
            "_view_name": "HTMLView",
            "description": "",
            "description_tooltip": null,
            "layout": "IPY_MODEL_5a4c6521fcc04ffcb2e33283dd765c88",
            "placeholder": "​",
            "style": "IPY_MODEL_55aa2e0245074fc792a5f9b12bd52eed",
            "value": " 1.36M/1.36M [00:00&lt;00:00, 12.5MB/s]"
          }
        },
        "be73b8baadc8413786d596e532a9cf66": {
          "model_module": "@jupyter-widgets/base",
          "model_name": "LayoutModel",
          "model_module_version": "1.2.0",
          "state": {
            "_model_module": "@jupyter-widgets/base",
            "_model_module_version": "1.2.0",
            "_model_name": "LayoutModel",
            "_view_count": null,
            "_view_module": "@jupyter-widgets/base",
            "_view_module_version": "1.2.0",
            "_view_name": "LayoutView",
            "align_content": null,
            "align_items": null,
            "align_self": null,
            "border": null,
            "bottom": null,
            "display": null,
            "flex": null,
            "flex_flow": null,
            "grid_area": null,
            "grid_auto_columns": null,
            "grid_auto_flow": null,
            "grid_auto_rows": null,
            "grid_column": null,
            "grid_gap": null,
            "grid_row": null,
            "grid_template_areas": null,
            "grid_template_columns": null,
            "grid_template_rows": null,
            "height": null,
            "justify_content": null,
            "justify_items": null,
            "left": null,
            "margin": null,
            "max_height": null,
            "max_width": null,
            "min_height": null,
            "min_width": null,
            "object_fit": null,
            "object_position": null,
            "order": null,
            "overflow": null,
            "overflow_x": null,
            "overflow_y": null,
            "padding": null,
            "right": null,
            "top": null,
            "visibility": null,
            "width": null
          }
        },
        "852af6d36b4c409f9f9b7a7287cb4ecf": {
          "model_module": "@jupyter-widgets/base",
          "model_name": "LayoutModel",
          "model_module_version": "1.2.0",
          "state": {
            "_model_module": "@jupyter-widgets/base",
            "_model_module_version": "1.2.0",
            "_model_name": "LayoutModel",
            "_view_count": null,
            "_view_module": "@jupyter-widgets/base",
            "_view_module_version": "1.2.0",
            "_view_name": "LayoutView",
            "align_content": null,
            "align_items": null,
            "align_self": null,
            "border": null,
            "bottom": null,
            "display": null,
            "flex": null,
            "flex_flow": null,
            "grid_area": null,
            "grid_auto_columns": null,
            "grid_auto_flow": null,
            "grid_auto_rows": null,
            "grid_column": null,
            "grid_gap": null,
            "grid_row": null,
            "grid_template_areas": null,
            "grid_template_columns": null,
            "grid_template_rows": null,
            "height": null,
            "justify_content": null,
            "justify_items": null,
            "left": null,
            "margin": null,
            "max_height": null,
            "max_width": null,
            "min_height": null,
            "min_width": null,
            "object_fit": null,
            "object_position": null,
            "order": null,
            "overflow": null,
            "overflow_x": null,
            "overflow_y": null,
            "padding": null,
            "right": null,
            "top": null,
            "visibility": null,
            "width": null
          }
        },
        "29b7587344b448a0b3d2ddb553633c00": {
          "model_module": "@jupyter-widgets/controls",
          "model_name": "DescriptionStyleModel",
          "model_module_version": "1.5.0",
          "state": {
            "_model_module": "@jupyter-widgets/controls",
            "_model_module_version": "1.5.0",
            "_model_name": "DescriptionStyleModel",
            "_view_count": null,
            "_view_module": "@jupyter-widgets/base",
            "_view_module_version": "1.2.0",
            "_view_name": "StyleView",
            "description_width": ""
          }
        },
        "0b68085968d24f1ba1b95acf227a1c2d": {
          "model_module": "@jupyter-widgets/base",
          "model_name": "LayoutModel",
          "model_module_version": "1.2.0",
          "state": {
            "_model_module": "@jupyter-widgets/base",
            "_model_module_version": "1.2.0",
            "_model_name": "LayoutModel",
            "_view_count": null,
            "_view_module": "@jupyter-widgets/base",
            "_view_module_version": "1.2.0",
            "_view_name": "LayoutView",
            "align_content": null,
            "align_items": null,
            "align_self": null,
            "border": null,
            "bottom": null,
            "display": null,
            "flex": null,
            "flex_flow": null,
            "grid_area": null,
            "grid_auto_columns": null,
            "grid_auto_flow": null,
            "grid_auto_rows": null,
            "grid_column": null,
            "grid_gap": null,
            "grid_row": null,
            "grid_template_areas": null,
            "grid_template_columns": null,
            "grid_template_rows": null,
            "height": null,
            "justify_content": null,
            "justify_items": null,
            "left": null,
            "margin": null,
            "max_height": null,
            "max_width": null,
            "min_height": null,
            "min_width": null,
            "object_fit": null,
            "object_position": null,
            "order": null,
            "overflow": null,
            "overflow_x": null,
            "overflow_y": null,
            "padding": null,
            "right": null,
            "top": null,
            "visibility": null,
            "width": null
          }
        },
        "abe297c35df54d1ea4f485f7221e244f": {
          "model_module": "@jupyter-widgets/controls",
          "model_name": "ProgressStyleModel",
          "model_module_version": "1.5.0",
          "state": {
            "_model_module": "@jupyter-widgets/controls",
            "_model_module_version": "1.5.0",
            "_model_name": "ProgressStyleModel",
            "_view_count": null,
            "_view_module": "@jupyter-widgets/base",
            "_view_module_version": "1.2.0",
            "_view_name": "StyleView",
            "bar_color": null,
            "description_width": ""
          }
        },
        "5a4c6521fcc04ffcb2e33283dd765c88": {
          "model_module": "@jupyter-widgets/base",
          "model_name": "LayoutModel",
          "model_module_version": "1.2.0",
          "state": {
            "_model_module": "@jupyter-widgets/base",
            "_model_module_version": "1.2.0",
            "_model_name": "LayoutModel",
            "_view_count": null,
            "_view_module": "@jupyter-widgets/base",
            "_view_module_version": "1.2.0",
            "_view_name": "LayoutView",
            "align_content": null,
            "align_items": null,
            "align_self": null,
            "border": null,
            "bottom": null,
            "display": null,
            "flex": null,
            "flex_flow": null,
            "grid_area": null,
            "grid_auto_columns": null,
            "grid_auto_flow": null,
            "grid_auto_rows": null,
            "grid_column": null,
            "grid_gap": null,
            "grid_row": null,
            "grid_template_areas": null,
            "grid_template_columns": null,
            "grid_template_rows": null,
            "height": null,
            "justify_content": null,
            "justify_items": null,
            "left": null,
            "margin": null,
            "max_height": null,
            "max_width": null,
            "min_height": null,
            "min_width": null,
            "object_fit": null,
            "object_position": null,
            "order": null,
            "overflow": null,
            "overflow_x": null,
            "overflow_y": null,
            "padding": null,
            "right": null,
            "top": null,
            "visibility": null,
            "width": null
          }
        },
        "55aa2e0245074fc792a5f9b12bd52eed": {
          "model_module": "@jupyter-widgets/controls",
          "model_name": "DescriptionStyleModel",
          "model_module_version": "1.5.0",
          "state": {
            "_model_module": "@jupyter-widgets/controls",
            "_model_module_version": "1.5.0",
            "_model_name": "DescriptionStyleModel",
            "_view_count": null,
            "_view_module": "@jupyter-widgets/base",
            "_view_module_version": "1.2.0",
            "_view_name": "StyleView",
            "description_width": ""
          }
        },
        "0ab0d6f49c8c49ebb217f616f79d1918": {
          "model_module": "@jupyter-widgets/controls",
          "model_name": "HBoxModel",
          "model_module_version": "1.5.0",
          "state": {
            "_dom_classes": [],
            "_model_module": "@jupyter-widgets/controls",
            "_model_module_version": "1.5.0",
            "_model_name": "HBoxModel",
            "_view_count": null,
            "_view_module": "@jupyter-widgets/controls",
            "_view_module_version": "1.5.0",
            "_view_name": "HBoxView",
            "box_style": "",
            "children": [
              "IPY_MODEL_97735200e82e445b862efb9aa5ba4ab7",
              "IPY_MODEL_af21ba129bd542059810f5f3f8c837f9",
              "IPY_MODEL_896f992e10884b698b10b17e92e87052"
            ],
            "layout": "IPY_MODEL_2acfc8f7fc0e4934b3a1f04b45037e84"
          }
        },
        "97735200e82e445b862efb9aa5ba4ab7": {
          "model_module": "@jupyter-widgets/controls",
          "model_name": "HTMLModel",
          "model_module_version": "1.5.0",
          "state": {
            "_dom_classes": [],
            "_model_module": "@jupyter-widgets/controls",
            "_model_module_version": "1.5.0",
            "_model_name": "HTMLModel",
            "_view_count": null,
            "_view_module": "@jupyter-widgets/controls",
            "_view_module_version": "1.5.0",
            "_view_name": "HTMLView",
            "description": "",
            "description_tooltip": null,
            "layout": "IPY_MODEL_f69424af94c147db828f7f4e655eebff",
            "placeholder": "​",
            "style": "IPY_MODEL_b6f1e2f4ba104e158f111acfd5b71d19",
            "value": "config.json: 100%"
          }
        },
        "af21ba129bd542059810f5f3f8c837f9": {
          "model_module": "@jupyter-widgets/controls",
          "model_name": "FloatProgressModel",
          "model_module_version": "1.5.0",
          "state": {
            "_dom_classes": [],
            "_model_module": "@jupyter-widgets/controls",
            "_model_module_version": "1.5.0",
            "_model_name": "FloatProgressModel",
            "_view_count": null,
            "_view_module": "@jupyter-widgets/controls",
            "_view_module_version": "1.5.0",
            "_view_name": "ProgressView",
            "bar_style": "success",
            "description": "",
            "description_tooltip": null,
            "layout": "IPY_MODEL_3ac63d40b71949a981d1492a601ac799",
            "max": 665,
            "min": 0,
            "orientation": "horizontal",
            "style": "IPY_MODEL_0c75b76ebe0e4d6eb855e6624b457f8c",
            "value": 665
          }
        },
        "896f992e10884b698b10b17e92e87052": {
          "model_module": "@jupyter-widgets/controls",
          "model_name": "HTMLModel",
          "model_module_version": "1.5.0",
          "state": {
            "_dom_classes": [],
            "_model_module": "@jupyter-widgets/controls",
            "_model_module_version": "1.5.0",
            "_model_name": "HTMLModel",
            "_view_count": null,
            "_view_module": "@jupyter-widgets/controls",
            "_view_module_version": "1.5.0",
            "_view_name": "HTMLView",
            "description": "",
            "description_tooltip": null,
            "layout": "IPY_MODEL_cc0b77f8f6bd4f2a8478c2f0b18f729a",
            "placeholder": "​",
            "style": "IPY_MODEL_7e9cd71851a346e38bbdb847c6ab0399",
            "value": " 665/665 [00:00&lt;00:00, 59.3kB/s]"
          }
        },
        "2acfc8f7fc0e4934b3a1f04b45037e84": {
          "model_module": "@jupyter-widgets/base",
          "model_name": "LayoutModel",
          "model_module_version": "1.2.0",
          "state": {
            "_model_module": "@jupyter-widgets/base",
            "_model_module_version": "1.2.0",
            "_model_name": "LayoutModel",
            "_view_count": null,
            "_view_module": "@jupyter-widgets/base",
            "_view_module_version": "1.2.0",
            "_view_name": "LayoutView",
            "align_content": null,
            "align_items": null,
            "align_self": null,
            "border": null,
            "bottom": null,
            "display": null,
            "flex": null,
            "flex_flow": null,
            "grid_area": null,
            "grid_auto_columns": null,
            "grid_auto_flow": null,
            "grid_auto_rows": null,
            "grid_column": null,
            "grid_gap": null,
            "grid_row": null,
            "grid_template_areas": null,
            "grid_template_columns": null,
            "grid_template_rows": null,
            "height": null,
            "justify_content": null,
            "justify_items": null,
            "left": null,
            "margin": null,
            "max_height": null,
            "max_width": null,
            "min_height": null,
            "min_width": null,
            "object_fit": null,
            "object_position": null,
            "order": null,
            "overflow": null,
            "overflow_x": null,
            "overflow_y": null,
            "padding": null,
            "right": null,
            "top": null,
            "visibility": null,
            "width": null
          }
        },
        "f69424af94c147db828f7f4e655eebff": {
          "model_module": "@jupyter-widgets/base",
          "model_name": "LayoutModel",
          "model_module_version": "1.2.0",
          "state": {
            "_model_module": "@jupyter-widgets/base",
            "_model_module_version": "1.2.0",
            "_model_name": "LayoutModel",
            "_view_count": null,
            "_view_module": "@jupyter-widgets/base",
            "_view_module_version": "1.2.0",
            "_view_name": "LayoutView",
            "align_content": null,
            "align_items": null,
            "align_self": null,
            "border": null,
            "bottom": null,
            "display": null,
            "flex": null,
            "flex_flow": null,
            "grid_area": null,
            "grid_auto_columns": null,
            "grid_auto_flow": null,
            "grid_auto_rows": null,
            "grid_column": null,
            "grid_gap": null,
            "grid_row": null,
            "grid_template_areas": null,
            "grid_template_columns": null,
            "grid_template_rows": null,
            "height": null,
            "justify_content": null,
            "justify_items": null,
            "left": null,
            "margin": null,
            "max_height": null,
            "max_width": null,
            "min_height": null,
            "min_width": null,
            "object_fit": null,
            "object_position": null,
            "order": null,
            "overflow": null,
            "overflow_x": null,
            "overflow_y": null,
            "padding": null,
            "right": null,
            "top": null,
            "visibility": null,
            "width": null
          }
        },
        "b6f1e2f4ba104e158f111acfd5b71d19": {
          "model_module": "@jupyter-widgets/controls",
          "model_name": "DescriptionStyleModel",
          "model_module_version": "1.5.0",
          "state": {
            "_model_module": "@jupyter-widgets/controls",
            "_model_module_version": "1.5.0",
            "_model_name": "DescriptionStyleModel",
            "_view_count": null,
            "_view_module": "@jupyter-widgets/base",
            "_view_module_version": "1.2.0",
            "_view_name": "StyleView",
            "description_width": ""
          }
        },
        "3ac63d40b71949a981d1492a601ac799": {
          "model_module": "@jupyter-widgets/base",
          "model_name": "LayoutModel",
          "model_module_version": "1.2.0",
          "state": {
            "_model_module": "@jupyter-widgets/base",
            "_model_module_version": "1.2.0",
            "_model_name": "LayoutModel",
            "_view_count": null,
            "_view_module": "@jupyter-widgets/base",
            "_view_module_version": "1.2.0",
            "_view_name": "LayoutView",
            "align_content": null,
            "align_items": null,
            "align_self": null,
            "border": null,
            "bottom": null,
            "display": null,
            "flex": null,
            "flex_flow": null,
            "grid_area": null,
            "grid_auto_columns": null,
            "grid_auto_flow": null,
            "grid_auto_rows": null,
            "grid_column": null,
            "grid_gap": null,
            "grid_row": null,
            "grid_template_areas": null,
            "grid_template_columns": null,
            "grid_template_rows": null,
            "height": null,
            "justify_content": null,
            "justify_items": null,
            "left": null,
            "margin": null,
            "max_height": null,
            "max_width": null,
            "min_height": null,
            "min_width": null,
            "object_fit": null,
            "object_position": null,
            "order": null,
            "overflow": null,
            "overflow_x": null,
            "overflow_y": null,
            "padding": null,
            "right": null,
            "top": null,
            "visibility": null,
            "width": null
          }
        },
        "0c75b76ebe0e4d6eb855e6624b457f8c": {
          "model_module": "@jupyter-widgets/controls",
          "model_name": "ProgressStyleModel",
          "model_module_version": "1.5.0",
          "state": {
            "_model_module": "@jupyter-widgets/controls",
            "_model_module_version": "1.5.0",
            "_model_name": "ProgressStyleModel",
            "_view_count": null,
            "_view_module": "@jupyter-widgets/base",
            "_view_module_version": "1.2.0",
            "_view_name": "StyleView",
            "bar_color": null,
            "description_width": ""
          }
        },
        "cc0b77f8f6bd4f2a8478c2f0b18f729a": {
          "model_module": "@jupyter-widgets/base",
          "model_name": "LayoutModel",
          "model_module_version": "1.2.0",
          "state": {
            "_model_module": "@jupyter-widgets/base",
            "_model_module_version": "1.2.0",
            "_model_name": "LayoutModel",
            "_view_count": null,
            "_view_module": "@jupyter-widgets/base",
            "_view_module_version": "1.2.0",
            "_view_name": "LayoutView",
            "align_content": null,
            "align_items": null,
            "align_self": null,
            "border": null,
            "bottom": null,
            "display": null,
            "flex": null,
            "flex_flow": null,
            "grid_area": null,
            "grid_auto_columns": null,
            "grid_auto_flow": null,
            "grid_auto_rows": null,
            "grid_column": null,
            "grid_gap": null,
            "grid_row": null,
            "grid_template_areas": null,
            "grid_template_columns": null,
            "grid_template_rows": null,
            "height": null,
            "justify_content": null,
            "justify_items": null,
            "left": null,
            "margin": null,
            "max_height": null,
            "max_width": null,
            "min_height": null,
            "min_width": null,
            "object_fit": null,
            "object_position": null,
            "order": null,
            "overflow": null,
            "overflow_x": null,
            "overflow_y": null,
            "padding": null,
            "right": null,
            "top": null,
            "visibility": null,
            "width": null
          }
        },
        "7e9cd71851a346e38bbdb847c6ab0399": {
          "model_module": "@jupyter-widgets/controls",
          "model_name": "DescriptionStyleModel",
          "model_module_version": "1.5.0",
          "state": {
            "_model_module": "@jupyter-widgets/controls",
            "_model_module_version": "1.5.0",
            "_model_name": "DescriptionStyleModel",
            "_view_count": null,
            "_view_module": "@jupyter-widgets/base",
            "_view_module_version": "1.2.0",
            "_view_name": "StyleView",
            "description_width": ""
          }
        },
        "e49873f5ee8048f9a4e9468afb1f05ec": {
          "model_module": "@jupyter-widgets/controls",
          "model_name": "HBoxModel",
          "model_module_version": "1.5.0",
          "state": {
            "_dom_classes": [],
            "_model_module": "@jupyter-widgets/controls",
            "_model_module_version": "1.5.0",
            "_model_name": "HBoxModel",
            "_view_count": null,
            "_view_module": "@jupyter-widgets/controls",
            "_view_module_version": "1.5.0",
            "_view_name": "HBoxView",
            "box_style": "",
            "children": [
              "IPY_MODEL_4f687f6252a84a66a2f367a9b30dd217",
              "IPY_MODEL_020789d684f84bd8a1f151e6f6ae65c8",
              "IPY_MODEL_88ea251ffc4c46319e3822e3ea57ad1a"
            ],
            "layout": "IPY_MODEL_a190f0ee4391476193d24311f692bc17"
          }
        },
        "4f687f6252a84a66a2f367a9b30dd217": {
          "model_module": "@jupyter-widgets/controls",
          "model_name": "HTMLModel",
          "model_module_version": "1.5.0",
          "state": {
            "_dom_classes": [],
            "_model_module": "@jupyter-widgets/controls",
            "_model_module_version": "1.5.0",
            "_model_name": "HTMLModel",
            "_view_count": null,
            "_view_module": "@jupyter-widgets/controls",
            "_view_module_version": "1.5.0",
            "_view_name": "HTMLView",
            "description": "",
            "description_tooltip": null,
            "layout": "IPY_MODEL_4e98f34c94c5453badcf5ae2eac3c52f",
            "placeholder": "​",
            "style": "IPY_MODEL_4fb276777e7c4c9fa5428d919d8e01e9",
            "value": "model.safetensors: 100%"
          }
        },
        "020789d684f84bd8a1f151e6f6ae65c8": {
          "model_module": "@jupyter-widgets/controls",
          "model_name": "FloatProgressModel",
          "model_module_version": "1.5.0",
          "state": {
            "_dom_classes": [],
            "_model_module": "@jupyter-widgets/controls",
            "_model_module_version": "1.5.0",
            "_model_name": "FloatProgressModel",
            "_view_count": null,
            "_view_module": "@jupyter-widgets/controls",
            "_view_module_version": "1.5.0",
            "_view_name": "ProgressView",
            "bar_style": "success",
            "description": "",
            "description_tooltip": null,
            "layout": "IPY_MODEL_bf40fd1399d242bbaec7ed3bde222a83",
            "max": 548105171,
            "min": 0,
            "orientation": "horizontal",
            "style": "IPY_MODEL_f5972d44841f44d0a6e73e34c49f8592",
            "value": 548105171
          }
        },
        "88ea251ffc4c46319e3822e3ea57ad1a": {
          "model_module": "@jupyter-widgets/controls",
          "model_name": "HTMLModel",
          "model_module_version": "1.5.0",
          "state": {
            "_dom_classes": [],
            "_model_module": "@jupyter-widgets/controls",
            "_model_module_version": "1.5.0",
            "_model_name": "HTMLModel",
            "_view_count": null,
            "_view_module": "@jupyter-widgets/controls",
            "_view_module_version": "1.5.0",
            "_view_name": "HTMLView",
            "description": "",
            "description_tooltip": null,
            "layout": "IPY_MODEL_e7496d20a2f74d5d81b47000f92adcc3",
            "placeholder": "​",
            "style": "IPY_MODEL_eaca350f72b649abaa342f8140dca0ec",
            "value": " 548M/548M [00:06&lt;00:00, 20.4MB/s]"
          }
        },
        "a190f0ee4391476193d24311f692bc17": {
          "model_module": "@jupyter-widgets/base",
          "model_name": "LayoutModel",
          "model_module_version": "1.2.0",
          "state": {
            "_model_module": "@jupyter-widgets/base",
            "_model_module_version": "1.2.0",
            "_model_name": "LayoutModel",
            "_view_count": null,
            "_view_module": "@jupyter-widgets/base",
            "_view_module_version": "1.2.0",
            "_view_name": "LayoutView",
            "align_content": null,
            "align_items": null,
            "align_self": null,
            "border": null,
            "bottom": null,
            "display": null,
            "flex": null,
            "flex_flow": null,
            "grid_area": null,
            "grid_auto_columns": null,
            "grid_auto_flow": null,
            "grid_auto_rows": null,
            "grid_column": null,
            "grid_gap": null,
            "grid_row": null,
            "grid_template_areas": null,
            "grid_template_columns": null,
            "grid_template_rows": null,
            "height": null,
            "justify_content": null,
            "justify_items": null,
            "left": null,
            "margin": null,
            "max_height": null,
            "max_width": null,
            "min_height": null,
            "min_width": null,
            "object_fit": null,
            "object_position": null,
            "order": null,
            "overflow": null,
            "overflow_x": null,
            "overflow_y": null,
            "padding": null,
            "right": null,
            "top": null,
            "visibility": null,
            "width": null
          }
        },
        "4e98f34c94c5453badcf5ae2eac3c52f": {
          "model_module": "@jupyter-widgets/base",
          "model_name": "LayoutModel",
          "model_module_version": "1.2.0",
          "state": {
            "_model_module": "@jupyter-widgets/base",
            "_model_module_version": "1.2.0",
            "_model_name": "LayoutModel",
            "_view_count": null,
            "_view_module": "@jupyter-widgets/base",
            "_view_module_version": "1.2.0",
            "_view_name": "LayoutView",
            "align_content": null,
            "align_items": null,
            "align_self": null,
            "border": null,
            "bottom": null,
            "display": null,
            "flex": null,
            "flex_flow": null,
            "grid_area": null,
            "grid_auto_columns": null,
            "grid_auto_flow": null,
            "grid_auto_rows": null,
            "grid_column": null,
            "grid_gap": null,
            "grid_row": null,
            "grid_template_areas": null,
            "grid_template_columns": null,
            "grid_template_rows": null,
            "height": null,
            "justify_content": null,
            "justify_items": null,
            "left": null,
            "margin": null,
            "max_height": null,
            "max_width": null,
            "min_height": null,
            "min_width": null,
            "object_fit": null,
            "object_position": null,
            "order": null,
            "overflow": null,
            "overflow_x": null,
            "overflow_y": null,
            "padding": null,
            "right": null,
            "top": null,
            "visibility": null,
            "width": null
          }
        },
        "4fb276777e7c4c9fa5428d919d8e01e9": {
          "model_module": "@jupyter-widgets/controls",
          "model_name": "DescriptionStyleModel",
          "model_module_version": "1.5.0",
          "state": {
            "_model_module": "@jupyter-widgets/controls",
            "_model_module_version": "1.5.0",
            "_model_name": "DescriptionStyleModel",
            "_view_count": null,
            "_view_module": "@jupyter-widgets/base",
            "_view_module_version": "1.2.0",
            "_view_name": "StyleView",
            "description_width": ""
          }
        },
        "bf40fd1399d242bbaec7ed3bde222a83": {
          "model_module": "@jupyter-widgets/base",
          "model_name": "LayoutModel",
          "model_module_version": "1.2.0",
          "state": {
            "_model_module": "@jupyter-widgets/base",
            "_model_module_version": "1.2.0",
            "_model_name": "LayoutModel",
            "_view_count": null,
            "_view_module": "@jupyter-widgets/base",
            "_view_module_version": "1.2.0",
            "_view_name": "LayoutView",
            "align_content": null,
            "align_items": null,
            "align_self": null,
            "border": null,
            "bottom": null,
            "display": null,
            "flex": null,
            "flex_flow": null,
            "grid_area": null,
            "grid_auto_columns": null,
            "grid_auto_flow": null,
            "grid_auto_rows": null,
            "grid_column": null,
            "grid_gap": null,
            "grid_row": null,
            "grid_template_areas": null,
            "grid_template_columns": null,
            "grid_template_rows": null,
            "height": null,
            "justify_content": null,
            "justify_items": null,
            "left": null,
            "margin": null,
            "max_height": null,
            "max_width": null,
            "min_height": null,
            "min_width": null,
            "object_fit": null,
            "object_position": null,
            "order": null,
            "overflow": null,
            "overflow_x": null,
            "overflow_y": null,
            "padding": null,
            "right": null,
            "top": null,
            "visibility": null,
            "width": null
          }
        },
        "f5972d44841f44d0a6e73e34c49f8592": {
          "model_module": "@jupyter-widgets/controls",
          "model_name": "ProgressStyleModel",
          "model_module_version": "1.5.0",
          "state": {
            "_model_module": "@jupyter-widgets/controls",
            "_model_module_version": "1.5.0",
            "_model_name": "ProgressStyleModel",
            "_view_count": null,
            "_view_module": "@jupyter-widgets/base",
            "_view_module_version": "1.2.0",
            "_view_name": "StyleView",
            "bar_color": null,
            "description_width": ""
          }
        },
        "e7496d20a2f74d5d81b47000f92adcc3": {
          "model_module": "@jupyter-widgets/base",
          "model_name": "LayoutModel",
          "model_module_version": "1.2.0",
          "state": {
            "_model_module": "@jupyter-widgets/base",
            "_model_module_version": "1.2.0",
            "_model_name": "LayoutModel",
            "_view_count": null,
            "_view_module": "@jupyter-widgets/base",
            "_view_module_version": "1.2.0",
            "_view_name": "LayoutView",
            "align_content": null,
            "align_items": null,
            "align_self": null,
            "border": null,
            "bottom": null,
            "display": null,
            "flex": null,
            "flex_flow": null,
            "grid_area": null,
            "grid_auto_columns": null,
            "grid_auto_flow": null,
            "grid_auto_rows": null,
            "grid_column": null,
            "grid_gap": null,
            "grid_row": null,
            "grid_template_areas": null,
            "grid_template_columns": null,
            "grid_template_rows": null,
            "height": null,
            "justify_content": null,
            "justify_items": null,
            "left": null,
            "margin": null,
            "max_height": null,
            "max_width": null,
            "min_height": null,
            "min_width": null,
            "object_fit": null,
            "object_position": null,
            "order": null,
            "overflow": null,
            "overflow_x": null,
            "overflow_y": null,
            "padding": null,
            "right": null,
            "top": null,
            "visibility": null,
            "width": null
          }
        },
        "eaca350f72b649abaa342f8140dca0ec": {
          "model_module": "@jupyter-widgets/controls",
          "model_name": "DescriptionStyleModel",
          "model_module_version": "1.5.0",
          "state": {
            "_model_module": "@jupyter-widgets/controls",
            "_model_module_version": "1.5.0",
            "_model_name": "DescriptionStyleModel",
            "_view_count": null,
            "_view_module": "@jupyter-widgets/base",
            "_view_module_version": "1.2.0",
            "_view_name": "StyleView",
            "description_width": ""
          }
        },
        "22b41dd6aa4f4eaaa53aeef0236a0fe5": {
          "model_module": "@jupyter-widgets/controls",
          "model_name": "HBoxModel",
          "model_module_version": "1.5.0",
          "state": {
            "_dom_classes": [],
            "_model_module": "@jupyter-widgets/controls",
            "_model_module_version": "1.5.0",
            "_model_name": "HBoxModel",
            "_view_count": null,
            "_view_module": "@jupyter-widgets/controls",
            "_view_module_version": "1.5.0",
            "_view_name": "HBoxView",
            "box_style": "",
            "children": [
              "IPY_MODEL_0ef74ea2009a43909cb0b1cffe9be68b",
              "IPY_MODEL_349326dc3c334ac4b75580cafe444088",
              "IPY_MODEL_f422191f8dbb4525b82d874f2cd2de31"
            ],
            "layout": "IPY_MODEL_2f8b8c606bc8493686fd35b754490649"
          }
        },
        "0ef74ea2009a43909cb0b1cffe9be68b": {
          "model_module": "@jupyter-widgets/controls",
          "model_name": "HTMLModel",
          "model_module_version": "1.5.0",
          "state": {
            "_dom_classes": [],
            "_model_module": "@jupyter-widgets/controls",
            "_model_module_version": "1.5.0",
            "_model_name": "HTMLModel",
            "_view_count": null,
            "_view_module": "@jupyter-widgets/controls",
            "_view_module_version": "1.5.0",
            "_view_name": "HTMLView",
            "description": "",
            "description_tooltip": null,
            "layout": "IPY_MODEL_7d1e9b8693bb48c59b0c5060cd97d81f",
            "placeholder": "​",
            "style": "IPY_MODEL_c356a873e3434c779646b7204385959c",
            "value": "generation_config.json: 100%"
          }
        },
        "349326dc3c334ac4b75580cafe444088": {
          "model_module": "@jupyter-widgets/controls",
          "model_name": "FloatProgressModel",
          "model_module_version": "1.5.0",
          "state": {
            "_dom_classes": [],
            "_model_module": "@jupyter-widgets/controls",
            "_model_module_version": "1.5.0",
            "_model_name": "FloatProgressModel",
            "_view_count": null,
            "_view_module": "@jupyter-widgets/controls",
            "_view_module_version": "1.5.0",
            "_view_name": "ProgressView",
            "bar_style": "success",
            "description": "",
            "description_tooltip": null,
            "layout": "IPY_MODEL_a4d246ab09bb4263a32281254626d087",
            "max": 124,
            "min": 0,
            "orientation": "horizontal",
            "style": "IPY_MODEL_3f74d6b7ac924c0083f5b01f70ce14e4",
            "value": 124
          }
        },
        "f422191f8dbb4525b82d874f2cd2de31": {
          "model_module": "@jupyter-widgets/controls",
          "model_name": "HTMLModel",
          "model_module_version": "1.5.0",
          "state": {
            "_dom_classes": [],
            "_model_module": "@jupyter-widgets/controls",
            "_model_module_version": "1.5.0",
            "_model_name": "HTMLModel",
            "_view_count": null,
            "_view_module": "@jupyter-widgets/controls",
            "_view_module_version": "1.5.0",
            "_view_name": "HTMLView",
            "description": "",
            "description_tooltip": null,
            "layout": "IPY_MODEL_0408df42e0534eed9a9915c1823252b0",
            "placeholder": "​",
            "style": "IPY_MODEL_4a40a877537e43068c9d16c31b664975",
            "value": " 124/124 [00:00&lt;00:00, 8.37kB/s]"
          }
        },
        "2f8b8c606bc8493686fd35b754490649": {
          "model_module": "@jupyter-widgets/base",
          "model_name": "LayoutModel",
          "model_module_version": "1.2.0",
          "state": {
            "_model_module": "@jupyter-widgets/base",
            "_model_module_version": "1.2.0",
            "_model_name": "LayoutModel",
            "_view_count": null,
            "_view_module": "@jupyter-widgets/base",
            "_view_module_version": "1.2.0",
            "_view_name": "LayoutView",
            "align_content": null,
            "align_items": null,
            "align_self": null,
            "border": null,
            "bottom": null,
            "display": null,
            "flex": null,
            "flex_flow": null,
            "grid_area": null,
            "grid_auto_columns": null,
            "grid_auto_flow": null,
            "grid_auto_rows": null,
            "grid_column": null,
            "grid_gap": null,
            "grid_row": null,
            "grid_template_areas": null,
            "grid_template_columns": null,
            "grid_template_rows": null,
            "height": null,
            "justify_content": null,
            "justify_items": null,
            "left": null,
            "margin": null,
            "max_height": null,
            "max_width": null,
            "min_height": null,
            "min_width": null,
            "object_fit": null,
            "object_position": null,
            "order": null,
            "overflow": null,
            "overflow_x": null,
            "overflow_y": null,
            "padding": null,
            "right": null,
            "top": null,
            "visibility": null,
            "width": null
          }
        },
        "7d1e9b8693bb48c59b0c5060cd97d81f": {
          "model_module": "@jupyter-widgets/base",
          "model_name": "LayoutModel",
          "model_module_version": "1.2.0",
          "state": {
            "_model_module": "@jupyter-widgets/base",
            "_model_module_version": "1.2.0",
            "_model_name": "LayoutModel",
            "_view_count": null,
            "_view_module": "@jupyter-widgets/base",
            "_view_module_version": "1.2.0",
            "_view_name": "LayoutView",
            "align_content": null,
            "align_items": null,
            "align_self": null,
            "border": null,
            "bottom": null,
            "display": null,
            "flex": null,
            "flex_flow": null,
            "grid_area": null,
            "grid_auto_columns": null,
            "grid_auto_flow": null,
            "grid_auto_rows": null,
            "grid_column": null,
            "grid_gap": null,
            "grid_row": null,
            "grid_template_areas": null,
            "grid_template_columns": null,
            "grid_template_rows": null,
            "height": null,
            "justify_content": null,
            "justify_items": null,
            "left": null,
            "margin": null,
            "max_height": null,
            "max_width": null,
            "min_height": null,
            "min_width": null,
            "object_fit": null,
            "object_position": null,
            "order": null,
            "overflow": null,
            "overflow_x": null,
            "overflow_y": null,
            "padding": null,
            "right": null,
            "top": null,
            "visibility": null,
            "width": null
          }
        },
        "c356a873e3434c779646b7204385959c": {
          "model_module": "@jupyter-widgets/controls",
          "model_name": "DescriptionStyleModel",
          "model_module_version": "1.5.0",
          "state": {
            "_model_module": "@jupyter-widgets/controls",
            "_model_module_version": "1.5.0",
            "_model_name": "DescriptionStyleModel",
            "_view_count": null,
            "_view_module": "@jupyter-widgets/base",
            "_view_module_version": "1.2.0",
            "_view_name": "StyleView",
            "description_width": ""
          }
        },
        "a4d246ab09bb4263a32281254626d087": {
          "model_module": "@jupyter-widgets/base",
          "model_name": "LayoutModel",
          "model_module_version": "1.2.0",
          "state": {
            "_model_module": "@jupyter-widgets/base",
            "_model_module_version": "1.2.0",
            "_model_name": "LayoutModel",
            "_view_count": null,
            "_view_module": "@jupyter-widgets/base",
            "_view_module_version": "1.2.0",
            "_view_name": "LayoutView",
            "align_content": null,
            "align_items": null,
            "align_self": null,
            "border": null,
            "bottom": null,
            "display": null,
            "flex": null,
            "flex_flow": null,
            "grid_area": null,
            "grid_auto_columns": null,
            "grid_auto_flow": null,
            "grid_auto_rows": null,
            "grid_column": null,
            "grid_gap": null,
            "grid_row": null,
            "grid_template_areas": null,
            "grid_template_columns": null,
            "grid_template_rows": null,
            "height": null,
            "justify_content": null,
            "justify_items": null,
            "left": null,
            "margin": null,
            "max_height": null,
            "max_width": null,
            "min_height": null,
            "min_width": null,
            "object_fit": null,
            "object_position": null,
            "order": null,
            "overflow": null,
            "overflow_x": null,
            "overflow_y": null,
            "padding": null,
            "right": null,
            "top": null,
            "visibility": null,
            "width": null
          }
        },
        "3f74d6b7ac924c0083f5b01f70ce14e4": {
          "model_module": "@jupyter-widgets/controls",
          "model_name": "ProgressStyleModel",
          "model_module_version": "1.5.0",
          "state": {
            "_model_module": "@jupyter-widgets/controls",
            "_model_module_version": "1.5.0",
            "_model_name": "ProgressStyleModel",
            "_view_count": null,
            "_view_module": "@jupyter-widgets/base",
            "_view_module_version": "1.2.0",
            "_view_name": "StyleView",
            "bar_color": null,
            "description_width": ""
          }
        },
        "0408df42e0534eed9a9915c1823252b0": {
          "model_module": "@jupyter-widgets/base",
          "model_name": "LayoutModel",
          "model_module_version": "1.2.0",
          "state": {
            "_model_module": "@jupyter-widgets/base",
            "_model_module_version": "1.2.0",
            "_model_name": "LayoutModel",
            "_view_count": null,
            "_view_module": "@jupyter-widgets/base",
            "_view_module_version": "1.2.0",
            "_view_name": "LayoutView",
            "align_content": null,
            "align_items": null,
            "align_self": null,
            "border": null,
            "bottom": null,
            "display": null,
            "flex": null,
            "flex_flow": null,
            "grid_area": null,
            "grid_auto_columns": null,
            "grid_auto_flow": null,
            "grid_auto_rows": null,
            "grid_column": null,
            "grid_gap": null,
            "grid_row": null,
            "grid_template_areas": null,
            "grid_template_columns": null,
            "grid_template_rows": null,
            "height": null,
            "justify_content": null,
            "justify_items": null,
            "left": null,
            "margin": null,
            "max_height": null,
            "max_width": null,
            "min_height": null,
            "min_width": null,
            "object_fit": null,
            "object_position": null,
            "order": null,
            "overflow": null,
            "overflow_x": null,
            "overflow_y": null,
            "padding": null,
            "right": null,
            "top": null,
            "visibility": null,
            "width": null
          }
        },
        "4a40a877537e43068c9d16c31b664975": {
          "model_module": "@jupyter-widgets/controls",
          "model_name": "DescriptionStyleModel",
          "model_module_version": "1.5.0",
          "state": {
            "_model_module": "@jupyter-widgets/controls",
            "_model_module_version": "1.5.0",
            "_model_name": "DescriptionStyleModel",
            "_view_count": null,
            "_view_module": "@jupyter-widgets/base",
            "_view_module_version": "1.2.0",
            "_view_name": "StyleView",
            "description_width": ""
          }
        }
      }
    }
  },
  "cells": [
    {
      "cell_type": "markdown",
      "metadata": {
        "id": "view-in-github",
        "colab_type": "text"
      },
      "source": [
        "<a href=\"https://colab.research.google.com/github/CrackHegg/Reverse-Balderdash/blob/main/10315_Mini_Project_WordGen.ipynb\" target=\"_parent\"><img src=\"https://colab.research.google.com/assets/colab-badge.svg\" alt=\"Open In Colab\"/></a>"
      ]
    },
    {
      "cell_type": "markdown",
      "source": [
        "# Whimsical and Wonderful WordGen\n",
        "\n",
        "Members:\n",
        "\n",
        "*   Ryan Ding\n",
        "*   Jessica Han\n",
        "*   Pranavi Kondapalli\n",
        "\n",
        "\n",
        "\n"
      ],
      "metadata": {
        "id": "Cl87k8FyS3EX"
      }
    },
    {
      "cell_type": "markdown",
      "source": [
        "# Training Flag(default = False)\n"
      ],
      "metadata": {
        "id": "7ncgBipgStjU"
      }
    },
    {
      "cell_type": "code",
      "source": [
        "training_flag = False"
      ],
      "metadata": {
        "id": "wuf_rWPlR2j0"
      },
      "execution_count": null,
      "outputs": []
    },
    {
      "cell_type": "markdown",
      "source": [
        "# Imports\n"
      ],
      "metadata": {
        "id": "nBev-T1QLytT"
      }
    },
    {
      "cell_type": "code",
      "source": [
        "!pip install transformers datasets"
      ],
      "metadata": {
        "id": "oVzbm6tcWX38",
        "colab": {
          "base_uri": "https://localhost:8080/"
        },
        "outputId": "09898cde-0e66-4844-9c5f-cc586963bf9d"
      },
      "execution_count": null,
      "outputs": [
        {
          "output_type": "stream",
          "name": "stdout",
          "text": [
            "Requirement already satisfied: transformers in /usr/local/lib/python3.11/dist-packages (4.51.3)\n",
            "Collecting datasets\n",
            "  Downloading datasets-3.5.1-py3-none-any.whl.metadata (19 kB)\n",
            "Requirement already satisfied: filelock in /usr/local/lib/python3.11/dist-packages (from transformers) (3.18.0)\n",
            "Requirement already satisfied: huggingface-hub<1.0,>=0.30.0 in /usr/local/lib/python3.11/dist-packages (from transformers) (0.30.2)\n",
            "Requirement already satisfied: numpy>=1.17 in /usr/local/lib/python3.11/dist-packages (from transformers) (2.0.2)\n",
            "Requirement already satisfied: packaging>=20.0 in /usr/local/lib/python3.11/dist-packages (from transformers) (24.2)\n",
            "Requirement already satisfied: pyyaml>=5.1 in /usr/local/lib/python3.11/dist-packages (from transformers) (6.0.2)\n",
            "Requirement already satisfied: regex!=2019.12.17 in /usr/local/lib/python3.11/dist-packages (from transformers) (2024.11.6)\n",
            "Requirement already satisfied: requests in /usr/local/lib/python3.11/dist-packages (from transformers) (2.32.3)\n",
            "Requirement already satisfied: tokenizers<0.22,>=0.21 in /usr/local/lib/python3.11/dist-packages (from transformers) (0.21.1)\n",
            "Requirement already satisfied: safetensors>=0.4.3 in /usr/local/lib/python3.11/dist-packages (from transformers) (0.5.3)\n",
            "Requirement already satisfied: tqdm>=4.27 in /usr/local/lib/python3.11/dist-packages (from transformers) (4.67.1)\n",
            "Requirement already satisfied: pyarrow>=15.0.0 in /usr/local/lib/python3.11/dist-packages (from datasets) (18.1.0)\n",
            "Collecting dill<0.3.9,>=0.3.0 (from datasets)\n",
            "  Downloading dill-0.3.8-py3-none-any.whl.metadata (10 kB)\n",
            "Requirement already satisfied: pandas in /usr/local/lib/python3.11/dist-packages (from datasets) (2.2.2)\n",
            "Collecting xxhash (from datasets)\n",
            "  Downloading xxhash-3.5.0-cp311-cp311-manylinux_2_17_x86_64.manylinux2014_x86_64.whl.metadata (12 kB)\n",
            "Collecting multiprocess<0.70.17 (from datasets)\n",
            "  Downloading multiprocess-0.70.16-py311-none-any.whl.metadata (7.2 kB)\n",
            "Collecting fsspec<=2025.3.0,>=2023.1.0 (from fsspec[http]<=2025.3.0,>=2023.1.0->datasets)\n",
            "  Downloading fsspec-2025.3.0-py3-none-any.whl.metadata (11 kB)\n",
            "Requirement already satisfied: aiohttp in /usr/local/lib/python3.11/dist-packages (from datasets) (3.11.15)\n",
            "Requirement already satisfied: aiohappyeyeballs>=2.3.0 in /usr/local/lib/python3.11/dist-packages (from aiohttp->datasets) (2.6.1)\n",
            "Requirement already satisfied: aiosignal>=1.1.2 in /usr/local/lib/python3.11/dist-packages (from aiohttp->datasets) (1.3.2)\n",
            "Requirement already satisfied: attrs>=17.3.0 in /usr/local/lib/python3.11/dist-packages (from aiohttp->datasets) (25.3.0)\n",
            "Requirement already satisfied: frozenlist>=1.1.1 in /usr/local/lib/python3.11/dist-packages (from aiohttp->datasets) (1.6.0)\n",
            "Requirement already satisfied: multidict<7.0,>=4.5 in /usr/local/lib/python3.11/dist-packages (from aiohttp->datasets) (6.4.3)\n",
            "Requirement already satisfied: propcache>=0.2.0 in /usr/local/lib/python3.11/dist-packages (from aiohttp->datasets) (0.3.1)\n",
            "Requirement already satisfied: yarl<2.0,>=1.17.0 in /usr/local/lib/python3.11/dist-packages (from aiohttp->datasets) (1.20.0)\n",
            "Requirement already satisfied: typing-extensions>=3.7.4.3 in /usr/local/lib/python3.11/dist-packages (from huggingface-hub<1.0,>=0.30.0->transformers) (4.13.2)\n",
            "Requirement already satisfied: charset-normalizer<4,>=2 in /usr/local/lib/python3.11/dist-packages (from requests->transformers) (3.4.1)\n",
            "Requirement already satisfied: idna<4,>=2.5 in /usr/local/lib/python3.11/dist-packages (from requests->transformers) (3.10)\n",
            "Requirement already satisfied: urllib3<3,>=1.21.1 in /usr/local/lib/python3.11/dist-packages (from requests->transformers) (2.4.0)\n",
            "Requirement already satisfied: certifi>=2017.4.17 in /usr/local/lib/python3.11/dist-packages (from requests->transformers) (2025.4.26)\n",
            "Requirement already satisfied: python-dateutil>=2.8.2 in /usr/local/lib/python3.11/dist-packages (from pandas->datasets) (2.9.0.post0)\n",
            "Requirement already satisfied: pytz>=2020.1 in /usr/local/lib/python3.11/dist-packages (from pandas->datasets) (2025.2)\n",
            "Requirement already satisfied: tzdata>=2022.7 in /usr/local/lib/python3.11/dist-packages (from pandas->datasets) (2025.2)\n",
            "Requirement already satisfied: six>=1.5 in /usr/local/lib/python3.11/dist-packages (from python-dateutil>=2.8.2->pandas->datasets) (1.17.0)\n",
            "Downloading datasets-3.5.1-py3-none-any.whl (491 kB)\n",
            "\u001b[2K   \u001b[90m━━━━━━━━━━━━━━━━━━━━━━━━━━━━━━━━━━━━━━━━\u001b[0m \u001b[32m491.4/491.4 kB\u001b[0m \u001b[31m28.6 MB/s\u001b[0m eta \u001b[36m0:00:00\u001b[0m\n",
            "\u001b[?25hDownloading dill-0.3.8-py3-none-any.whl (116 kB)\n",
            "\u001b[2K   \u001b[90m━━━━━━━━━━━━━━━━━━━━━━━━━━━━━━━━━━━━━━━━\u001b[0m \u001b[32m116.3/116.3 kB\u001b[0m \u001b[31m10.2 MB/s\u001b[0m eta \u001b[36m0:00:00\u001b[0m\n",
            "\u001b[?25hDownloading fsspec-2025.3.0-py3-none-any.whl (193 kB)\n",
            "\u001b[2K   \u001b[90m━━━━━━━━━━━━━━━━━━━━━━━━━━━━━━━━━━━━━━━━\u001b[0m \u001b[32m193.6/193.6 kB\u001b[0m \u001b[31m16.7 MB/s\u001b[0m eta \u001b[36m0:00:00\u001b[0m\n",
            "\u001b[?25hDownloading multiprocess-0.70.16-py311-none-any.whl (143 kB)\n",
            "\u001b[2K   \u001b[90m━━━━━━━━━━━━━━━━━━━━━━━━━━━━━━━━━━━━━━━━\u001b[0m \u001b[32m143.5/143.5 kB\u001b[0m \u001b[31m11.8 MB/s\u001b[0m eta \u001b[36m0:00:00\u001b[0m\n",
            "\u001b[?25hDownloading xxhash-3.5.0-cp311-cp311-manylinux_2_17_x86_64.manylinux2014_x86_64.whl (194 kB)\n",
            "\u001b[2K   \u001b[90m━━━━━━━━━━━━━━━━━━━━━━━━━━━━━━━━━━━━━━━━\u001b[0m \u001b[32m194.8/194.8 kB\u001b[0m \u001b[31m15.5 MB/s\u001b[0m eta \u001b[36m0:00:00\u001b[0m\n",
            "\u001b[?25hInstalling collected packages: xxhash, fsspec, dill, multiprocess, datasets\n",
            "  Attempting uninstall: fsspec\n",
            "    Found existing installation: fsspec 2025.3.2\n",
            "    Uninstalling fsspec-2025.3.2:\n",
            "      Successfully uninstalled fsspec-2025.3.2\n",
            "\u001b[31mERROR: pip's dependency resolver does not currently take into account all the packages that are installed. This behaviour is the source of the following dependency conflicts.\n",
            "gcsfs 2025.3.2 requires fsspec==2025.3.2, but you have fsspec 2025.3.0 which is incompatible.\n",
            "torch 2.6.0+cu124 requires nvidia-cublas-cu12==12.4.5.8; platform_system == \"Linux\" and platform_machine == \"x86_64\", but you have nvidia-cublas-cu12 12.5.3.2 which is incompatible.\n",
            "torch 2.6.0+cu124 requires nvidia-cuda-cupti-cu12==12.4.127; platform_system == \"Linux\" and platform_machine == \"x86_64\", but you have nvidia-cuda-cupti-cu12 12.5.82 which is incompatible.\n",
            "torch 2.6.0+cu124 requires nvidia-cuda-nvrtc-cu12==12.4.127; platform_system == \"Linux\" and platform_machine == \"x86_64\", but you have nvidia-cuda-nvrtc-cu12 12.5.82 which is incompatible.\n",
            "torch 2.6.0+cu124 requires nvidia-cuda-runtime-cu12==12.4.127; platform_system == \"Linux\" and platform_machine == \"x86_64\", but you have nvidia-cuda-runtime-cu12 12.5.82 which is incompatible.\n",
            "torch 2.6.0+cu124 requires nvidia-cudnn-cu12==9.1.0.70; platform_system == \"Linux\" and platform_machine == \"x86_64\", but you have nvidia-cudnn-cu12 9.3.0.75 which is incompatible.\n",
            "torch 2.6.0+cu124 requires nvidia-cufft-cu12==11.2.1.3; platform_system == \"Linux\" and platform_machine == \"x86_64\", but you have nvidia-cufft-cu12 11.2.3.61 which is incompatible.\n",
            "torch 2.6.0+cu124 requires nvidia-curand-cu12==10.3.5.147; platform_system == \"Linux\" and platform_machine == \"x86_64\", but you have nvidia-curand-cu12 10.3.6.82 which is incompatible.\n",
            "torch 2.6.0+cu124 requires nvidia-cusolver-cu12==11.6.1.9; platform_system == \"Linux\" and platform_machine == \"x86_64\", but you have nvidia-cusolver-cu12 11.6.3.83 which is incompatible.\n",
            "torch 2.6.0+cu124 requires nvidia-cusparse-cu12==12.3.1.170; platform_system == \"Linux\" and platform_machine == \"x86_64\", but you have nvidia-cusparse-cu12 12.5.1.3 which is incompatible.\n",
            "torch 2.6.0+cu124 requires nvidia-nvjitlink-cu12==12.4.127; platform_system == \"Linux\" and platform_machine == \"x86_64\", but you have nvidia-nvjitlink-cu12 12.5.82 which is incompatible.\u001b[0m\u001b[31m\n",
            "\u001b[0mSuccessfully installed datasets-3.5.1 dill-0.3.8 fsspec-2025.3.0 multiprocess-0.70.16 xxhash-3.5.0\n"
          ]
        }
      ]
    },
    {
      "cell_type": "code",
      "source": [
        "import matplotlib.pyplot as plt\n",
        "from collections import defaultdict, Counter\n",
        "import torch\n",
        "import os\n",
        "import random\n",
        "import numpy as np\n",
        "import pandas as pd\n",
        "import math\n",
        "import sys\n",
        "import time\n",
        "from time import sleep\n",
        "\n",
        "from IPython import display\n",
        "\n",
        "import torch\n",
        "import torch.nn as nn\n",
        "from torch.nn import functional as F\n",
        "from torch.utils.data import Dataset\n",
        "from torch.utils.data.dataloader import DataLoader\n",
        "from torch.nn.utils.rnn import pad_sequence\n",
        "\n",
        "import sentencepiece as spm\n",
        "\n",
        "\n",
        "from torch.optim import AdamW\n",
        "\n",
        "from tqdm import tqdm\n",
        "from transformers import (\n",
        "    GPT2Tokenizer,\n",
        "    GPT2LMHeadModel,\n",
        "    DataCollatorForLanguageModeling,\n",
        "    Trainer,\n",
        "    TrainingArguments,\n",
        ")\n",
        "\n",
        "from datasets import Dataset"
      ],
      "metadata": {
        "id": "WoG30Uo2L110"
      },
      "execution_count": null,
      "outputs": []
    },
    {
      "cell_type": "markdown",
      "source": [
        "# ***Model Card***"
      ],
      "metadata": {
        "id": "JOEX92sVTQkb"
      }
    },
    {
      "cell_type": "markdown",
      "source": [
        "**Task Input and Output**:\n",
        "\n",
        "Inputs: A string of natural language text representing a definition or phrase describing a word\n",
        "*   Example Input: \"To leave hastily and secretly.\"\n",
        "\n",
        "Outputs: A predicted word as a string, composed from BPE tokens\n",
        "*   Example Output: \"abscond\"\n",
        "\n"
      ],
      "metadata": {
        "id": "Eug2Wx2kTaSG"
      }
    },
    {
      "cell_type": "markdown",
      "source": [
        "**Training Data**:\n",
        "\n",
        "[Larger Dictionary of English Words and Definitions - Kaggle](https://www.kaggle.com/datasets/anthonytherrien/larger-dictionary-of-english-words-and-definitions/data )\n",
        "\n",
        "Preprocessing:\n",
        "\n",
        "*   Definitions and words were tokenized separately using SentencePiece\n",
        "*   Words and Definitions were converted to subword tokens using a BPE tokenizer trained over the word vocabulary\n",
        "*   Definition were cleaned by removing instance of word from definition and by removing several key \"classification\" words.\n",
        "\n",
        "\n",
        "*Size:* ~100,000+ word-definition pairs\n",
        "\n",
        "**Training Data(used for pretrained GPT-2)**:\n",
        "\n",
        "\n",
        "[WebText Dataset](https://huggingface.co/datasets/Skylion007/openwebtext)\n",
        "(the dataset is not availible publically, but we included an open source replication)\n",
        "\n",
        "*Size:* ~8 million documents (around 40 GB)"
      ],
      "metadata": {
        "id": "tGXR1k-FTfQ1"
      }
    },
    {
      "cell_type": "markdown",
      "source": [
        "**Intended Use**:\n",
        "\n",
        "*   Creative writing prompts\n",
        "*   Word association games or quizzes(Reverse Balderdash)\n",
        "*   Educational tools for vocabulary learning\n"
      ],
      "metadata": {
        "id": "BZ8lbbeTThSH"
      }
    },
    {
      "cell_type": "markdown",
      "source": [
        "**Risks**:\n",
        "*   If definitions include culturally sensitive or offensive phrases, the model may reproduce inappropriate words from training data.\n",
        "*   Since the dataset contains real dictionary data, some outdated or offensive terms may be embedded in the training distribution.\n",
        "\n"
      ],
      "metadata": {
        "id": "BTVAtkZyTkA4"
      }
    },
    {
      "cell_type": "markdown",
      "source": [
        "# ***Introduction***\n",
        "\n",
        "You know when you have the idea of a word on the tip of your tongue but you just can't find it? Worry no more! As you can generate a whole new word to describe your thoughts!\n",
        "\n",
        "---\n",
        "\n",
        "Formally, our project aims to generate words, potentially invented ones, given their definitions. The goal is to create a model that takes in a description/definition of our word and outputs the word, even if it doesn't exist in current vocabularies. The capability to generate new names from precise definitions makes this project particularly useful for creative industries. It takes in existing human linguistics elements and outputs something novel and innovative.\n",
        "\n",
        "**Techniques:**\n",
        "\n",
        "*   *Word Embeddings:* We used nn.Embedding layers to represent discrete input tokens (from definitions) as continuous vectors. These embeddings allow the model to generalize across similar subwords and semantic structures.\n",
        "*   *Scaled Dot Product Attention(SDPA) Transformers:* We leveraged the multi-head self-attention blocks of a pretrained GPT-2 model and finetuned the last layer(LM-head) of the model. Uses beam-search to find the most likely sequence of tokens.\n",
        "\n",
        "**Experimental Question(s):**\n",
        "\n",
        "*   Does the model, when generating words from definitions, over-rely on a small subset of subword tokens?\n",
        "*   Can this reliance be mitigated through architectural choices like multi-headed attention?"
      ],
      "metadata": {
        "id": "DZRRhejsWf5V"
      }
    },
    {
      "cell_type": "markdown",
      "source": [
        "# Download Kaggle Word Dataset"
      ],
      "metadata": {
        "id": "rVk4sUZiEyYN"
      }
    },
    {
      "cell_type": "code",
      "source": [
        "!pip install gdown"
      ],
      "metadata": {
        "id": "DNNVpQMqIkkT",
        "colab": {
          "base_uri": "https://localhost:8080/"
        },
        "outputId": "c08b4d7c-9bfe-49a6-ee79-e35008619ca9"
      },
      "execution_count": null,
      "outputs": [
        {
          "output_type": "stream",
          "name": "stdout",
          "text": [
            "Requirement already satisfied: gdown in /usr/local/lib/python3.11/dist-packages (5.2.0)\n",
            "Requirement already satisfied: beautifulsoup4 in /usr/local/lib/python3.11/dist-packages (from gdown) (4.13.4)\n",
            "Requirement already satisfied: filelock in /usr/local/lib/python3.11/dist-packages (from gdown) (3.18.0)\n",
            "Requirement already satisfied: requests[socks] in /usr/local/lib/python3.11/dist-packages (from gdown) (2.32.3)\n",
            "Requirement already satisfied: tqdm in /usr/local/lib/python3.11/dist-packages (from gdown) (4.67.1)\n",
            "Requirement already satisfied: soupsieve>1.2 in /usr/local/lib/python3.11/dist-packages (from beautifulsoup4->gdown) (2.7)\n",
            "Requirement already satisfied: typing-extensions>=4.0.0 in /usr/local/lib/python3.11/dist-packages (from beautifulsoup4->gdown) (4.13.2)\n",
            "Requirement already satisfied: charset-normalizer<4,>=2 in /usr/local/lib/python3.11/dist-packages (from requests[socks]->gdown) (3.4.1)\n",
            "Requirement already satisfied: idna<4,>=2.5 in /usr/local/lib/python3.11/dist-packages (from requests[socks]->gdown) (3.10)\n",
            "Requirement already satisfied: urllib3<3,>=1.21.1 in /usr/local/lib/python3.11/dist-packages (from requests[socks]->gdown) (2.4.0)\n",
            "Requirement already satisfied: certifi>=2017.4.17 in /usr/local/lib/python3.11/dist-packages (from requests[socks]->gdown) (2025.4.26)\n",
            "Requirement already satisfied: PySocks!=1.5.7,>=1.5.6 in /usr/local/lib/python3.11/dist-packages (from requests[socks]->gdown) (1.7.1)\n"
          ]
        }
      ]
    },
    {
      "cell_type": "code",
      "source": [
        "import os\n",
        "import zipfile\n",
        "import gdown\n",
        "\n",
        "# 🧲 Download dataset from Google Drive using file ID\n",
        "# https://drive.google.com/file/d/1p-PiJqz5cVOkeUWIYDVrgAZ0qDyYgh_-/view?usp=sharing\n",
        "file_id = '1p-PiJqz5cVOkeUWIYDVrgAZ0qDyYgh_-'\n",
        "output = 'words_definitions.zip'\n",
        "\n",
        "# Construct the direct download link\n",
        "download_link = f'https://drive.google.com/uc?id={file_id}'\n",
        "\n",
        "gdown.download(download_link, output, quiet=False)\n",
        "\n",
        "# 🗜️ Unzip it\n",
        "with zipfile.ZipFile(output, 'r') as zip_ref:\n",
        "    zip_ref.extractall('word_dataset')\n",
        "\n",
        "# ✅ Path to dataset\n",
        "DATA_PATH = 'word_dataset'"
      ],
      "metadata": {
        "id": "VeFoXiEtIs7M",
        "colab": {
          "base_uri": "https://localhost:8080/"
        },
        "outputId": "382711c4-8536-4a63-dcee-d3b329f32a2f"
      },
      "execution_count": null,
      "outputs": [
        {
          "output_type": "stream",
          "name": "stderr",
          "text": [
            "Downloading...\n",
            "From: https://drive.google.com/uc?id=1p-PiJqz5cVOkeUWIYDVrgAZ0qDyYgh_-\n",
            "To: /content/words_definitions.zip\n",
            "100%|██████████| 15.3M/15.3M [00:00<00:00, 57.7MB/s]\n"
          ]
        }
      ]
    },
    {
      "cell_type": "markdown",
      "source": [
        "# Process Dataset\n",
        "\n",
        "Remove repeated instances of the word from the definition and clean out taxonomies and classifications from the dictionary."
      ],
      "metadata": {
        "id": "5dIYM8XbEwxb"
      }
    },
    {
      "cell_type": "code",
      "source": [
        "#before cleaning\n",
        "dataset = pd.read_csv(os.path.join(DATA_PATH, 'dict.csv'))\n",
        "dataset.head()\n",
        "\n",
        "print(f\"Total unique words: {len(dataset['word'].unique())}\")\n",
        "print(f\"Total definitions: {len(dataset['definition'])}\")"
      ],
      "metadata": {
        "colab": {
          "base_uri": "https://localhost:8080/"
        },
        "id": "9zMJGEteB1iR",
        "outputId": "35dcb86b-2e41-423f-9b0f-e81fd5f055cd"
      },
      "execution_count": null,
      "outputs": [
        {
          "output_type": "stream",
          "name": "stdout",
          "text": [
            "Total unique words: 41298\n",
            "Total definitions: 126132\n"
          ]
        }
      ]
    },
    {
      "cell_type": "markdown",
      "source": [
        "**Show 5 Random Samples**"
      ],
      "metadata": {
        "id": "rsC0-5-0HYLW"
      }
    },
    {
      "cell_type": "code",
      "source": [
        "for i in range(5):\n",
        "  idx = random.randint(0, len(dataset) - 1)\n",
        "  print(f\"{i+1}. Word: {dataset.iloc[idx]['word']}\")\n",
        "  print(f\"Definition: {dataset.iloc[idx]['definition']}\")\n",
        "  print()"
      ],
      "metadata": {
        "colab": {
          "base_uri": "https://localhost:8080/"
        },
        "id": "BQ9UKBcaB6w0",
        "outputId": "431601d3-ed80-4aa9-fe9b-37409e86c91b"
      },
      "execution_count": null,
      "outputs": [
        {
          "output_type": "stream",
          "name": "stdout",
          "text": [
            "1. Word: velar\n",
            "Definition: The word 'velar' is an adjective that refers to a specific place of articulation in phonetics. It describes sounds that are produced with the back of the tongue against the soft palate (also known as the velum). Examples of velar consonants in English include the sounds represented by the letters \"k,\" \"g,\" and \"ng\" in words like \"cat,\" \"go,\" and \"sing.\" Additionally, 'velar' can also relate to or pertain to the velum itself in anatomical contexts.\n",
            "\n",
            "2. Word: pluck\n",
            "Definition: The word \"pluck\" has several meanings in English:\n",
            "\n",
            "1. **To pull or tug something quickly or forcibly:** This can refer to removing something from its place, such as plucking a flower from a plant or plucking a string on a musical instrument.\n",
            "\n",
            "2. **To gather or harvest:** Often used in the context of fruits or vegetables, for example, plucking apples from a tree.\n",
            "\n",
            "3. **To take courage or resolve in the face of difficulty:** This usage often refers to someone showing bravery or determination, as in \"she showed great pluck in overcoming her challenges.\"\n",
            "\n",
            "4. **To remove feathers from a bird:** This is common in food preparation and cooking contexts.\n",
            "\n",
            "In addition to these definitions, \"pluck\" can also function as a noun, referring to courage or spirited determination.\n",
            "\n",
            "3. Word: Egbert\n",
            "Definition: The word \"Egbert\" is primarily used as a proper noun, specifically a male given name of Old English origin. It is derived from the elements \"ecg,\" meaning \"edge\" or \"sword,\" and \"berht,\" meaning \"bright\" or \"shining.\" Historically, Egbert was the name of several notable figures, including a king of Wessex in the 9th century. If you are looking for a specific context or usage of the name, please provide more details!\n",
            "\n",
            "4. Word: flaunt\n",
            "Definition: The word \"flaunt\" is a verb that means to display something ostentatiously, especially in order to provoke envy or admiration or to show off. It can also refer to the act of exhibiting something in a way that is meant to attract attention or create a strong impression. For example, one might flaunt their wealth by wearing expensive clothing or driving a luxury car.\n",
            "\n",
            "5. Word: lobster\n",
            "Definition: A \"lobster\" is a type of shellfish belonging to the family Nephropidae. They are typically found in oceans and are characterized by their long, muscular bodies, large pincers (claws), and hard exoskeletons. Lobsters are known for their culinary value and are often considered a delicacy. They can range in color from dark blue to greenish-brown, and when cooked, they usually turn a reddish color. Lobsters are also an important part of marine ecosystems and are often caught for commercial fishing.\n",
            "\n"
          ]
        }
      ]
    },
    {
      "cell_type": "code",
      "source": [
        "def remove_instances (sentence, word):\n",
        "  idx = sentence.find(word)\n",
        "  sentence = sentence[idx+(len(word))+2:]\n",
        "  idx = sentence.find(' ')\n",
        "  sentence = sentence[idx+1:]\n",
        "  idx = sentence.find(' ')\n",
        "  sentence = sentence[idx+1:]\n",
        "\n",
        "  sentence = sentence.replace(word, \"\")\n",
        "  return sentence\n",
        "\n",
        "def limit_sentences (paragraph, num_sentences):\n",
        "  idx = paragraph.find('.')\n",
        "  i = 1\n",
        "  while i < num_sentences and idx != -1:\n",
        "    idx = paragraph.find('.', idx)\n",
        "    i += 1\n",
        "\n",
        "  if idx == -1:\n",
        "    return paragraph\n",
        "\n",
        "  paragraph = paragraph[0:idx]\n",
        "  return paragraph\n",
        "\n",
        "\n",
        "classifications = {'domain', 'kingdom', 'phylum', 'class', 'order', 'family', 'genus', 'species', 'taxonomy', 'country', 'language',\n",
        "                    'state', 'continent', 'culture', 'peninsula', 'island', '**', 'medical', 'medicine', 'mineral', '1', 'as both', 'scientific name'\n",
        "                    \"- as a\"}\n",
        "def is_taxonomy (definition):\n",
        "  if any(word in definition for word in classifications):\n",
        "    return True\n",
        "  return False"
      ],
      "metadata": {
        "id": "RtnwS6JBQOr5"
      },
      "execution_count": null,
      "outputs": []
    },
    {
      "cell_type": "code",
      "source": [
        "drop_idx = np.zeros(dataset.shape[0])\n",
        "\n",
        "# limit words or sentences\n",
        "for idx in range((dataset.shape[0])):\n",
        "\n",
        "  word = dataset.iloc[idx, 0]\n",
        "  definition = dataset.iloc[idx, 1]\n",
        "\n",
        "  # change it!\n",
        "  if type(word) is str and type(definition) is str:\n",
        "    word = word.lower()\n",
        "    definition = definition.lower()\n",
        "\n",
        "    # print(definition, is_taxonomy(definition))\n",
        "    if is_taxonomy(definition):\n",
        "      # dataset.drop(idx, axis=0, inplace=True)\n",
        "      # print(dataset.shape)\n",
        "      drop_idx[idx] = 1\n",
        "      continue\n",
        "\n",
        "    definition = remove_instances(definition, word)\n",
        "    definition = limit_sentences(definition, 2)\n",
        "    dataset.iloc[idx, 0] = word\n",
        "    dataset.iloc[idx, 1] = definition\n"
      ],
      "metadata": {
        "id": "_kNk4cZTPnD7"
      },
      "execution_count": null,
      "outputs": []
    },
    {
      "cell_type": "code",
      "source": [
        "drop_idx = drop_idx.astype(bool)\n",
        "dataset = dataset[~drop_idx]"
      ],
      "metadata": {
        "id": "_D7J4ZDGT9Ff"
      },
      "execution_count": null,
      "outputs": []
    },
    {
      "cell_type": "markdown",
      "source": [
        "# Tokenizer\n",
        "\n",
        "Use SentencePiece Byte Pair Encodings(BPE) to tokenize the definition and the word seperately. It is tokenized after the dataset has been cleaned."
      ],
      "metadata": {
        "id": "jq-cpWxKL-hL"
      }
    },
    {
      "cell_type": "code",
      "source": [
        "#convert dataset to dictionary mapping definitions to words\n",
        "definition_to_word = {}\n",
        "for index, row in dataset.iterrows():\n",
        "    definition_to_word[row['definition']] = row['word']"
      ],
      "metadata": {
        "id": "YLp64mPcpGES"
      },
      "execution_count": null,
      "outputs": []
    },
    {
      "cell_type": "code",
      "source": [
        "# clean and put definitions and words into .txt for tokenization\n",
        "with open(\"definitions.txt\", \"w\", encoding=\"utf-8\") as f:\n",
        "  for idx in range((dataset.shape[0])):\n",
        "\n",
        "    word = dataset.iloc[idx]['word']\n",
        "    definition = dataset.iloc[idx]['definition']\n",
        "    if not is_taxonomy(definition):\n",
        "        f.write(definition.strip() + \"\\n\")\n",
        "\n",
        "with open(\"words.txt\", \"w\", encoding=\"utf-8\") as f:\n",
        "  for idx in range((dataset.shape[0])):\n",
        "\n",
        "    word = dataset.iloc[idx]['word']\n",
        "    definition = dataset.iloc[idx]['definition']\n",
        "    if not is_taxonomy(definition):\n",
        "      f.write(str(word).strip() + \"\\n\")"
      ],
      "metadata": {
        "id": "FBwBUtu9pkyJ"
      },
      "execution_count": null,
      "outputs": []
    },
    {
      "cell_type": "code",
      "source": [
        "#definitions\n",
        "spm.SentencePieceTrainer.Train(\n",
        "    input=\"definitions.txt\",\n",
        "    model_prefix='definition_tokenizer',\n",
        "    vocab_size=1600,\n",
        "    model_type = \"word\",\n",
        "    pad_id=0,\n",
        "    unk_id=1,\n",
        "    bos_id=2,\n",
        "    eos_id=3\n",
        ")\n",
        "\n",
        "#words\n",
        "spm.SentencePieceTrainer.Train(\n",
        "    input=\"words.txt\",\n",
        "    model_prefix=\"word_tokenizer\",\n",
        "    vocab_size=1600,\n",
        "    model_type=\"bpe\",\n",
        "    pad_id=0,\n",
        "    unk_id=1,\n",
        "    bos_id=2,\n",
        "    eos_id=3\n",
        ")"
      ],
      "metadata": {
        "id": "0smBeWIrpqFA"
      },
      "execution_count": null,
      "outputs": []
    },
    {
      "cell_type": "code",
      "source": [
        "sp_def = spm.SentencePieceProcessor()\n",
        "sp_word = spm.SentencePieceProcessor()\n",
        "\n",
        "sp_def.load(\"definition_tokenizer.model\")\n",
        "sp_word.load(\"word_tokenizer.model\")"
      ],
      "metadata": {
        "colab": {
          "base_uri": "https://localhost:8080/"
        },
        "id": "TOIP0VvMs_FN",
        "outputId": "98ae7e07-5cb0-490b-b03b-df6b8d236df8"
      },
      "execution_count": null,
      "outputs": [
        {
          "output_type": "execute_result",
          "data": {
            "text/plain": [
              "True"
            ]
          },
          "metadata": {},
          "execution_count": 14
        }
      ]
    },
    {
      "cell_type": "code",
      "source": [
        "#demo\n",
        "encoded_def = sp_def.encode(\"a domesticated feline animal\", out_type=int)\n",
        "print(\"Definition Tokens:\", encoded_def)\n",
        "\n",
        "encoded_word = sp_word.encode(\"cat\", out_type=int)\n",
        "print(\"Word Tokens:\", encoded_word)\n",
        "\n",
        "print(\"Decoded:\", sp_word.decode(encoded_word))\n"
      ],
      "metadata": {
        "colab": {
          "base_uri": "https://localhost:8080/"
        },
        "id": "A-lNvbTItASF",
        "outputId": "b0a2bca9-95e6-4715-baf1-9cf410e08ce8"
      },
      "execution_count": null,
      "outputs": [
        {
          "output_type": "stream",
          "name": "stdout",
          "text": [
            "Definition Tokens: [5, 1, 257]\n",
            "Word Tokens: [501]\n",
            "Decoded: cat\n"
          ]
        }
      ]
    },
    {
      "cell_type": "markdown",
      "source": [
        "\n",
        "\n",
        "---\n",
        "\n",
        "\n",
        "\n",
        "---\n",
        "\n"
      ],
      "metadata": {
        "id": "ULkbeYVMXHP-"
      }
    },
    {
      "cell_type": "markdown",
      "source": [
        "\n",
        "\n",
        "---\n",
        "\n",
        "\n",
        "\n",
        "---\n",
        "\n"
      ],
      "metadata": {
        "id": "7ICJzSiiXnWs"
      }
    },
    {
      "cell_type": "markdown",
      "source": [
        "# ***METHODS***"
      ],
      "metadata": {
        "id": "QiS88YLQb0EB"
      }
    },
    {
      "cell_type": "markdown",
      "source": [
        "# Word Embeddings Model\n",
        "\n",
        "Word Embeddings: We used nn.Embedding layers to represent discrete input tokens (from definitions) as continuous vectors. These embeddings allow the model to generalize across similar subwords and semantic structures.\n",
        "\n",
        "Sequence Mean Pooling: Used mean pooling over the token embeddings of the definition sequence. This gives us a single fixed-length vector representation of the entire input sentence.\n",
        "\n",
        "Linear Projection as Decoder: The pooled embedding is passed through a fully-connected (linear) layer to predict a fixed-length sequence of output tokens that represent the target word. Each position in the output is trained to predict one token of the target word's subword representation."
      ],
      "metadata": {
        "id": "jfvr4AG3hfHJ"
      }
    },
    {
      "cell_type": "code",
      "source": [
        "class DefToWordModel(nn.Module):\n",
        "    def __init__(self, vocab_size_def, vocab_size_word, embed_dim, word_len):\n",
        "        super().__init__()\n",
        "        self.vocab_size_def = vocab_size_def\n",
        "        self.vocab_size_word = vocab_size_word\n",
        "        self.word_len = word_len\n",
        "\n",
        "        self.embedding_def = nn.Embedding(vocab_size_def, embed_dim)\n",
        "        self.linear = nn.Linear(embed_dim, embed_dim)\n",
        "        self.output = nn.Linear(embed_dim, vocab_size_word * word_len)\n",
        "\n",
        "    def forward(self, def_input):\n",
        "        def_embed =  self.embedding_def(def_input)\n",
        "        pooled = def_embed.mean(dim=1)\n",
        "        x = self.linear(pooled)\n",
        "        x = self.output(x)\n",
        "        x = x.view(-1,self.word_len,self.vocab_size_word)\n",
        "        return x"
      ],
      "metadata": {
        "id": "22SrE810qk9Y"
      },
      "execution_count": null,
      "outputs": []
    },
    {
      "cell_type": "markdown",
      "source": [
        "# ***Word Embeddings Training***\n",
        "\n",
        "**Run only ONE of the techniques at a time for training and experiments**"
      ],
      "metadata": {
        "id": "KR-fDrSpq8hu"
      }
    },
    {
      "cell_type": "code",
      "source": [
        "# USE GPU\n",
        "device = torch.device(\"cuda\" if torch.cuda.is_available() else \"cpu\")\n",
        "print(\"device:\", device)\n",
        "\n",
        "# CROSS ENTROPY LOSS\n",
        "losses = []\n",
        "loss_fn = nn.CrossEntropyLoss(ignore_index=0)\n",
        "\n",
        "# Tokenizer Vocab Sizes\n",
        "vocab_size_def = sp_def.get_piece_size()\n",
        "vocab_size_word = sp_word.get_piece_size()\n",
        "\n",
        "# HYPERPARAMETERS\n",
        "max_word_len = 6\n",
        "max_def_len = 48\n",
        "learning_rate = 0.005\n",
        "\n",
        "# MODEL\n",
        "definitions= dataset[\"definition\"].tolist()\n",
        "words= dataset[\"word\"].tolist()\n",
        "\n",
        "model = DefToWordModel(vocab_size_def=vocab_size_def, vocab_size_word=vocab_size_word, embed_dim=128, word_len=max_word_len).to(device)"
      ],
      "metadata": {
        "id": "ZFn9EjUPOsae",
        "colab": {
          "base_uri": "https://localhost:8080/"
        },
        "outputId": "6e469410-e0cf-49d5-e044-673c962262f0"
      },
      "execution_count": null,
      "outputs": [
        {
          "output_type": "stream",
          "name": "stdout",
          "text": [
            "device: cpu\n"
          ]
        }
      ]
    },
    {
      "cell_type": "markdown",
      "source": [
        "# **1st WE Technique**\n",
        "\n",
        "Predict whole word all at once(sequence of 6 most likely tokens)"
      ],
      "metadata": {
        "id": "b6RlpKkgvgCM"
      }
    },
    {
      "cell_type": "code",
      "source": [
        "path = 'def_to_word_WE1_state_dict.pt'"
      ],
      "metadata": {
        "id": "gzEiqYUX2VkV"
      },
      "execution_count": null,
      "outputs": []
    },
    {
      "cell_type": "code",
      "source": [
        "# HYPERPARAMETERS\n",
        "max_word_len = 6\n",
        "max_def_len = 48\n",
        "learning_rate = 0.001\n",
        "\n",
        "optimizer = torch.optim.Adam(model.parameters(), lr=learning_rate)"
      ],
      "metadata": {
        "id": "7SEloEnhm22L"
      },
      "execution_count": null,
      "outputs": []
    },
    {
      "cell_type": "code",
      "source": [
        "if training_flag:\n",
        "    for epoch in range(10):\n",
        "        model.train()\n",
        "        total_loss = 0\n",
        "        i = 0\n",
        "\n",
        "        # for def_batch, word_batch in dataloader:\n",
        "        for definition, word in definition_to_word.items():\n",
        "            # tokenize definition, word pairs and pad with empty tokens\n",
        "            def_ids = sp_def.encode(str(definition), out_type=int)[:max_def_len]\n",
        "            def_ids += [0] * (max_def_len - len(def_ids))\n",
        "\n",
        "            word_ids = sp_word.encode(str(word), out_type=int)[:max_word_len]\n",
        "            word_ids += [0] * (max_word_len - len(word_ids))\n",
        "\n",
        "\n",
        "            def_batch = torch.tensor([def_ids], dtype=torch.long).to(device)\n",
        "            word_batch = torch.tensor([word_ids], dtype=torch.long).to(device)\n",
        "\n",
        "            i += 1\n",
        "            if i % 10000 == 0:\n",
        "                print(i)\n",
        "\n",
        "            model.zero_grad()\n",
        "\n",
        "            # get output and loss\n",
        "            logits = model(def_batch)\n",
        "\n",
        "            loss = loss_fn(logits.view(-1,logits.size(-1)), word_batch.view(-1))\n",
        "\n",
        "            # propagate\n",
        "            loss.backward()\n",
        "            optimizer.step()\n",
        "\n",
        "            total_loss += loss.item()\n",
        "\n",
        "        print(f\"Epoch {epoch+1}, Loss: {total_loss:.4f}\")\n",
        "\n",
        "        losses.append(total_loss)\n",
        "\n",
        "    print(losses)\n",
        "\n",
        "    torch.save(model.state_dict(), path)"
      ],
      "metadata": {
        "id": "Cr7X9BGTyfIy"
      },
      "execution_count": null,
      "outputs": []
    },
    {
      "cell_type": "code",
      "source": [
        "if training_flag:\n",
        "  # Plot training loss over epochs\n",
        "  plt.figure(figsize=(8, 5))\n",
        "  plt.plot(range(1, len(losses) + 1), losses, marker='o')\n",
        "  plt.title(\"Training Loss over Epochs\")\n",
        "  plt.xlabel(\"Epoch\")\n",
        "  plt.ylabel(\"Total Loss\")\n",
        "  plt.grid(True)\n",
        "  plt.tight_layout()\n",
        "  plt.show()"
      ],
      "metadata": {
        "id": "QZsfiHUL8aKB"
      },
      "execution_count": null,
      "outputs": []
    },
    {
      "cell_type": "markdown",
      "source": [
        "![Screenshot 2025-05-01 at 7.38.03 PM.png](data:image/png;base64,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)"
      ],
      "metadata": {
        "id": "29fhzFM6UeQs"
      }
    },
    {
      "cell_type": "markdown",
      "source": [
        "# **2nd WE Technique**\n",
        "\n",
        "Predict the next token based on sequence of tokens\n",
        "\n",
        "For example, the model first predicts token \"ka\". Then, after, it will predict a new token with [Definition]+\"ka\", so it'll have more have context when predicting the next token."
      ],
      "metadata": {
        "id": "5FK2JSHHvby_"
      }
    },
    {
      "cell_type": "code",
      "source": [
        "path = 'def_to_word_WE2_state_dict.pt'"
      ],
      "metadata": {
        "id": "vrciEnmswKhW"
      },
      "execution_count": null,
      "outputs": []
    },
    {
      "cell_type": "code",
      "source": [
        "# HYPERPARAMETERS\n",
        "max_word_len = 1\n",
        "max_def_len = 48\n",
        "learning_rate = 0.001\n",
        "\n",
        "\n",
        "optimizer = torch.optim.Adam(model.parameters(), lr=learning_rate)"
      ],
      "metadata": {
        "id": "-L_pztkzvn4S"
      },
      "execution_count": null,
      "outputs": []
    },
    {
      "cell_type": "code",
      "source": [
        "if training_flag:\n",
        "    for epoch in range(10):\n",
        "        model.train()\n",
        "        total_loss = 0\n",
        "        i = 0\n",
        "\n",
        "        for definition, word in definition_to_word.items():\n",
        "            def_ids = sp_word.encode(str(definition), out_type=int)[:max_def_len]\n",
        "            word_ids = sp_word.encode(str(word), out_type=int)\n",
        "            i += 1\n",
        "            if i % 10000 == 0:\n",
        "                print(i)\n",
        "            for word_idx in range(len(word_ids)):\n",
        "                def_tks = def_ids + word_ids[0:word_idx]\n",
        "                word_tks = word_ids[word_idx]\n",
        "\n",
        "                if len(def_tks) < max_def_len:\n",
        "                    def_tks += [0] * (max_def_len - len(def_tks))\n",
        "\n",
        "                def_tks = def_tks[len(def_tks)-max_def_len:]\n",
        "\n",
        "                # print(sp_def.decode(def_tks), sp_word.decode([word_tks]), sp_word.decode([word_ids]))\n",
        "\n",
        "                def_batch = torch.tensor([def_tks], dtype=torch.long).to(device)\n",
        "                word_batch = torch.tensor([word_tks], dtype=torch.long).to(device)\n",
        "\n",
        "\n",
        "                model.zero_grad()\n",
        "\n",
        "                # get output and loss\n",
        "                logits = model(def_batch).squeeze()\n",
        "                # print(logits.shape, word_batch.shape)\n",
        "\n",
        "                loss = loss_fn(logits.view(-1,logits.size(-1)), word_batch.view(-1))\n",
        "\n",
        "                # propagate\n",
        "                loss.backward()\n",
        "                optimizer.step()\n",
        "\n",
        "                total_loss += loss.item()\n",
        "            # break\n",
        "\n",
        "        print(f\"Epoch {epoch+1}, Loss: {total_loss:.4f}\")\n",
        "\n",
        "        losses.append(total_loss)\n",
        "\n",
        "    print(losses)\n",
        "\n",
        "    torch.save(model.state_dict(), path)"
      ],
      "metadata": {
        "collapsed": true,
        "id": "bMtZaF4Io7qn"
      },
      "execution_count": null,
      "outputs": []
    },
    {
      "cell_type": "code",
      "source": [
        "if training_flag:\n",
        "  # Plot training loss over epochs\n",
        "  plt.figure(figsize=(8, 5))\n",
        "  plt.plot(range(1, len(losses) + 1), losses, marker='o')\n",
        "  plt.title(\"Training Loss over Epochs\")\n",
        "  plt.xlabel(\"Epoch\")\n",
        "  plt.ylabel(\"Total Loss\")\n",
        "  plt.grid(True)\n",
        "  plt.tight_layout()\n",
        "  plt.show()"
      ],
      "metadata": {
        "id": "nkPa8eWV8c5o"
      },
      "execution_count": null,
      "outputs": []
    },
    {
      "cell_type": "markdown",
      "source": [
        "\n",
        "\n",
        "---\n",
        "\n",
        "\n",
        "---\n",
        "\n"
      ],
      "metadata": {
        "id": "n09Z6y6OXCf6"
      }
    },
    {
      "cell_type": "markdown",
      "source": [
        "\n",
        "\n",
        "---\n",
        "\n",
        "\n",
        "\n",
        "---\n",
        "\n"
      ],
      "metadata": {
        "id": "8hfBDkAlXkc3"
      }
    },
    {
      "cell_type": "markdown",
      "source": [
        "# **Transformer Model**\n",
        "\n",
        "Our transformer model feeds the tokenized definition through the frozen multi-headed self-attention layers of a pretrained GPT-2, then mean-pools its final hidden states.\n",
        "\n",
        "A linear head—fine-tuned on our definition→word pairs predicts the next subword given the next true subword to generate the target word.\n",
        "\n",
        "\n",
        "![](https://drive.google.com/uc?export=view&id=1OBPz2zIm1rV5ZYGr60Jv2yojVK-Cz-mY)"
      ],
      "metadata": {
        "id": "DSzUX3kIK3wK"
      }
    },
    {
      "cell_type": "code",
      "source": [
        "definitions = list(definition_to_word.keys())\n",
        "words       = list(definition_to_word.values())"
      ],
      "metadata": {
        "id": "ELPAOQpXERIe"
      },
      "execution_count": null,
      "outputs": []
    },
    {
      "cell_type": "code",
      "source": [
        "# load pretrained GPT and its tokenizer\n",
        "tokenizer = GPT2Tokenizer.from_pretrained(\"gpt2\")\n",
        "tokenizer.pad_token = tokenizer.eos_token\n",
        "model = GPT2LMHeadModel.from_pretrained(\"gpt2\")\n",
        "model.config.pad_token_id = tokenizer.pad_token_id"
      ],
      "metadata": {
        "id": "ZnIWNEO1ETMd",
        "colab": {
          "base_uri": "https://localhost:8080/",
          "height": 404,
          "referenced_widgets": [
            "63502781b06c478a959f98916f439e19",
            "77ce7780443f4553be7792510f6a7fd8",
            "98ac16e1f22e4436a9b7e5ab0d6c1d16",
            "c063e04522e64d13b3af636d293c90b8",
            "22cc02b9a5de45fb9611cba3dfcc01d1",
            "9ec7187f1fdd4b2d84a1077764ba2d0c",
            "636c7341a81346b9832e984a29b1174a",
            "f86cbddf193947089382d0b35f5d4cf3",
            "0a5f735cc53c414980028a87e75f8df4",
            "1edf2b5647124f759d2523b14e64f7f3",
            "cb2b91c3262645d6bc6451a3accda992",
            "399f467b5b75418787d7be5934ccb21c",
            "efadba51993b454eaf676f9354246617",
            "40fe43689f80477c92f6e95ac296a39e",
            "b8bcda3e85ca4b31b26dc978654a68bb",
            "c0e781fcbace42d1be99b304cf9dd6d0",
            "64994ae6bc124b838c193f869fe56c57",
            "1fb6fb2f38854ec6a4c5ce789c7c6dea",
            "dc918a39c4ab496eb86f6c92bd44fe37",
            "75b83ac8cc6b40d08629edd47dac6c75",
            "f83d8c774e664d0b936e2f17987512ba",
            "f5d1cf93ead444049727ec616a8cd92c",
            "a0a3d6859469487fb6b98fc0a68fa586",
            "5d45c786559644b4b19e06f62f53875b",
            "d7715aa6ad084e60998b44c1239787f8",
            "a294fa32e9db4f78a3b92d035d7cce78",
            "0d5bdb2d9dbf49e6bc76710e0366c1ce",
            "bb97760525bf4643a27f07be314b94ce",
            "43905a883df148b79789a6efbc0d0bd5",
            "09cba5e74cb443efbb2f11c90d96ce8c",
            "74766f6835fc4ae9b818c37b12421613",
            "867ce390f0af43e098a17f135b4a503e",
            "670462e2d17340a684aef32e2b2c5e5f",
            "722fa2f3b178488db710a64bc7be0bed",
            "569890be0b144e2da2778183f8334ae4",
            "d627021f33e04c23994e2117d72b4065",
            "89f054871da44d5da79a6de978bfa0c2",
            "be73b8baadc8413786d596e532a9cf66",
            "852af6d36b4c409f9f9b7a7287cb4ecf",
            "29b7587344b448a0b3d2ddb553633c00",
            "0b68085968d24f1ba1b95acf227a1c2d",
            "abe297c35df54d1ea4f485f7221e244f",
            "5a4c6521fcc04ffcb2e33283dd765c88",
            "55aa2e0245074fc792a5f9b12bd52eed",
            "0ab0d6f49c8c49ebb217f616f79d1918",
            "97735200e82e445b862efb9aa5ba4ab7",
            "af21ba129bd542059810f5f3f8c837f9",
            "896f992e10884b698b10b17e92e87052",
            "2acfc8f7fc0e4934b3a1f04b45037e84",
            "f69424af94c147db828f7f4e655eebff",
            "b6f1e2f4ba104e158f111acfd5b71d19",
            "3ac63d40b71949a981d1492a601ac799",
            "0c75b76ebe0e4d6eb855e6624b457f8c",
            "cc0b77f8f6bd4f2a8478c2f0b18f729a",
            "7e9cd71851a346e38bbdb847c6ab0399",
            "e49873f5ee8048f9a4e9468afb1f05ec",
            "4f687f6252a84a66a2f367a9b30dd217",
            "020789d684f84bd8a1f151e6f6ae65c8",
            "88ea251ffc4c46319e3822e3ea57ad1a",
            "a190f0ee4391476193d24311f692bc17",
            "4e98f34c94c5453badcf5ae2eac3c52f",
            "4fb276777e7c4c9fa5428d919d8e01e9",
            "bf40fd1399d242bbaec7ed3bde222a83",
            "f5972d44841f44d0a6e73e34c49f8592",
            "e7496d20a2f74d5d81b47000f92adcc3",
            "eaca350f72b649abaa342f8140dca0ec",
            "22b41dd6aa4f4eaaa53aeef0236a0fe5",
            "0ef74ea2009a43909cb0b1cffe9be68b",
            "349326dc3c334ac4b75580cafe444088",
            "f422191f8dbb4525b82d874f2cd2de31",
            "2f8b8c606bc8493686fd35b754490649",
            "7d1e9b8693bb48c59b0c5060cd97d81f",
            "c356a873e3434c779646b7204385959c",
            "a4d246ab09bb4263a32281254626d087",
            "3f74d6b7ac924c0083f5b01f70ce14e4",
            "0408df42e0534eed9a9915c1823252b0",
            "4a40a877537e43068c9d16c31b664975"
          ]
        },
        "outputId": "e792672c-c045-4b3a-985c-973b22ed4458"
      },
      "execution_count": null,
      "outputs": [
        {
          "output_type": "stream",
          "name": "stderr",
          "text": [
            "/usr/local/lib/python3.11/dist-packages/huggingface_hub/utils/_auth.py:94: UserWarning: \n",
            "The secret `HF_TOKEN` does not exist in your Colab secrets.\n",
            "To authenticate with the Hugging Face Hub, create a token in your settings tab (https://huggingface.co/settings/tokens), set it as secret in your Google Colab and restart your session.\n",
            "You will be able to reuse this secret in all of your notebooks.\n",
            "Please note that authentication is recommended but still optional to access public models or datasets.\n",
            "  warnings.warn(\n"
          ]
        },
        {
          "output_type": "display_data",
          "data": {
            "text/plain": [
              "tokenizer_config.json:   0%|          | 0.00/26.0 [00:00<?, ?B/s]"
            ],
            "application/vnd.jupyter.widget-view+json": {
              "version_major": 2,
              "version_minor": 0,
              "model_id": "63502781b06c478a959f98916f439e19"
            }
          },
          "metadata": {}
        },
        {
          "output_type": "display_data",
          "data": {
            "text/plain": [
              "vocab.json:   0%|          | 0.00/1.04M [00:00<?, ?B/s]"
            ],
            "application/vnd.jupyter.widget-view+json": {
              "version_major": 2,
              "version_minor": 0,
              "model_id": "399f467b5b75418787d7be5934ccb21c"
            }
          },
          "metadata": {}
        },
        {
          "output_type": "display_data",
          "data": {
            "text/plain": [
              "merges.txt:   0%|          | 0.00/456k [00:00<?, ?B/s]"
            ],
            "application/vnd.jupyter.widget-view+json": {
              "version_major": 2,
              "version_minor": 0,
              "model_id": "a0a3d6859469487fb6b98fc0a68fa586"
            }
          },
          "metadata": {}
        },
        {
          "output_type": "display_data",
          "data": {
            "text/plain": [
              "tokenizer.json:   0%|          | 0.00/1.36M [00:00<?, ?B/s]"
            ],
            "application/vnd.jupyter.widget-view+json": {
              "version_major": 2,
              "version_minor": 0,
              "model_id": "722fa2f3b178488db710a64bc7be0bed"
            }
          },
          "metadata": {}
        },
        {
          "output_type": "display_data",
          "data": {
            "text/plain": [
              "config.json:   0%|          | 0.00/665 [00:00<?, ?B/s]"
            ],
            "application/vnd.jupyter.widget-view+json": {
              "version_major": 2,
              "version_minor": 0,
              "model_id": "0ab0d6f49c8c49ebb217f616f79d1918"
            }
          },
          "metadata": {}
        },
        {
          "output_type": "stream",
          "name": "stderr",
          "text": [
            "Xet Storage is enabled for this repo, but the 'hf_xet' package is not installed. Falling back to regular HTTP download. For better performance, install the package with: `pip install huggingface_hub[hf_xet]` or `pip install hf_xet`\n",
            "WARNING:huggingface_hub.file_download:Xet Storage is enabled for this repo, but the 'hf_xet' package is not installed. Falling back to regular HTTP download. For better performance, install the package with: `pip install huggingface_hub[hf_xet]` or `pip install hf_xet`\n"
          ]
        },
        {
          "output_type": "display_data",
          "data": {
            "text/plain": [
              "model.safetensors:   0%|          | 0.00/548M [00:00<?, ?B/s]"
            ],
            "application/vnd.jupyter.widget-view+json": {
              "version_major": 2,
              "version_minor": 0,
              "model_id": "e49873f5ee8048f9a4e9468afb1f05ec"
            }
          },
          "metadata": {}
        },
        {
          "output_type": "display_data",
          "data": {
            "text/plain": [
              "generation_config.json:   0%|          | 0.00/124 [00:00<?, ?B/s]"
            ],
            "application/vnd.jupyter.widget-view+json": {
              "version_major": 2,
              "version_minor": 0,
              "model_id": "22b41dd6aa4f4eaaa53aeef0236a0fe5"
            }
          },
          "metadata": {}
        }
      ]
    },
    {
      "cell_type": "code",
      "source": [
        "# freeze all model parameters except the last layer\n",
        "for param in model.parameters():\n",
        "    param.requires_grad = False\n",
        "for param in model.lm_head.parameters():\n",
        "    param.requires_grad = True"
      ],
      "metadata": {
        "id": "Z5B1nvLlEYJz"
      },
      "execution_count": null,
      "outputs": []
    },
    {
      "cell_type": "code",
      "source": [
        "class DefToWordGPTDataset(Dataset):\n",
        "  def __init__(self, definitions, words, tokenizer, max_len):\n",
        "    self.definitions = definitions\n",
        "    self.words = words\n",
        "    self.tokenizer = tokenizer\n",
        "    self.max_len = max_len\n",
        "\n",
        "  def __len__(self):\n",
        "    return len(self.definitions)\n",
        "\n",
        "  def __getitem__(self, idx):\n",
        "    if isinstance(idx, (list, tuple)):\n",
        "      batch = [self._single_item(i) for i in idx ]\n",
        "      return {\n",
        "            \"input_ids\":      torch.stack([s[\"input_ids\"]      for s in batch]),\n",
        "            \"attention_mask\": torch.stack([s[\"attention_mask\"] for s in batch]),\n",
        "            \"labels\":         torch.stack([s[\"labels\"]         for s in batch]),\n",
        "        }\n",
        "    return self._single_item(idx)\n",
        "\n",
        "  def _single_item(self,idx):\n",
        "      definition = self.definitions[idx]\n",
        "      word = self.words[idx]\n",
        "\n",
        "      encoded_def = self.tokenizer(str(definition))\n",
        "      encoded_word = self.tokenizer(str(word))\n",
        "\n",
        "      #concat tokens\n",
        "      input_ids = encoded_def[\"input_ids\"] + encoded_word[\"input_ids\"]\n",
        "\n",
        "      # ignore the definition tokens and only focus on the word tokens\n",
        "      labels = [-100] * len(encoded_def[\"input_ids\"]) + encoded_word[\"input_ids\"]\n",
        "      attention_mask = [1] * len(input_ids)\n",
        "\n",
        "      #pad ids, labels, and attention\n",
        "      input_ids += [self.tokenizer.pad_token_id] * (self.max_len - len(input_ids))\n",
        "      labels += [-100] * (self.max_len - len(labels))\n",
        "      attention_mask += [0] * (self.max_len - len(attention_mask))\n",
        "\n",
        "      return {\n",
        "          \"input_ids\" : torch.tensor(input_ids, dtype=torch.long),\n",
        "          \"labels\" : torch.tensor(labels, dtype=torch.long),\n",
        "          \"attention_mask\" : torch.tensor(attention_mask, dtype=torch.long)\n",
        "      }\n",
        "\n",
        "\n"
      ],
      "metadata": {
        "id": "LtPNcQOyfTy8"
      },
      "execution_count": null,
      "outputs": []
    },
    {
      "cell_type": "markdown",
      "source": [
        "# ***Transformers Training***\n",
        "\n",
        "Run with GPU"
      ],
      "metadata": {
        "id": "VmJSKDfcXQyC"
      }
    },
    {
      "cell_type": "code",
      "source": [
        "# HYPERPARAMETERS\n",
        "max_len     = 64\n",
        "batch_size  = 1\n",
        "lr          = 5e-4\n",
        "epochs      = 3"
      ],
      "metadata": {
        "id": "Kg38KJxLjHwT"
      },
      "execution_count": null,
      "outputs": []
    },
    {
      "cell_type": "code",
      "source": [
        "device = torch.device(\"cuda\" if torch.cuda.is_available() else \"cpu\")\n",
        "model.to(device)\n",
        "\n",
        "# use AdamW optimizer(commonly used for GPT)\n",
        "optimizer = torch.optim.AdamW(model.parameters(), lr=lr)\n",
        "\n",
        "datasetGPT = DefToWordGPTDataset(definitions, words, tokenizer, max_len)\n",
        "dataloader = DataLoader(datasetGPT, batch_size=batch_size, shuffle=True, )"
      ],
      "metadata": {
        "id": "m8ZltCDbi_Gm"
      },
      "execution_count": null,
      "outputs": []
    },
    {
      "cell_type": "code",
      "source": [
        "if training_flag:\n",
        "  model.train()\n",
        "  for epoch in range(3):\n",
        "    losses = []\n",
        "    total_loss = 0\n",
        "    i = 0\n",
        "    num_batches = len(dataloader)\n",
        "    for step, batch in enumerate(dataloader, start=1):\n",
        "      batch = {k: v.to(device) for k, v in batch.items()}\n",
        "\n",
        "      optimizer.zero_grad()\n",
        "      outputs = model(\n",
        "          input_ids=batch[\"input_ids\"],\n",
        "          labels=batch[\"labels\"],\n",
        "          attention_mask=batch[\"attention_mask\"]\n",
        "      )\n",
        "\n",
        "      loss = outputs.loss\n",
        "      loss.backward()\n",
        "\n",
        "      optimizer.step()\n",
        "      total_loss += loss.item()\n",
        "      if step % 50 == 0 or step == num_batches:\n",
        "            avg_loss = total_loss / step\n",
        "            print(f\"Epoch {epoch+1}/{epochs} — Step {step}/{num_batches} — Avg Loss: {avg_loss:.4f}\")\n",
        "    epoch_loss = total_loss / num_batches\n",
        "    losses.append(epoch_loss)\n",
        "    print(f\"Epoch {epoch+1} complete. Average Loss: {epoch_loss:.4f}\\n\")\n",
        "    path = 'def_to_word_GPT_state_dict.pt'\n",
        "    torch.save(model.state_dict(), path)"
      ],
      "metadata": {
        "id": "WUcnLJ5TjLnZ"
      },
      "execution_count": null,
      "outputs": []
    },
    {
      "cell_type": "markdown",
      "source": [
        "# **Comparing the two methods(Run this before experiments):**\n",
        "\n",
        "*   Word Embeddings\n",
        "*   Transformers\n"
      ],
      "metadata": {
        "id": "zIelUrjWEJ-c"
      }
    },
    {
      "cell_type": "code",
      "source": [
        "device = torch.device(\"cuda\" if torch.cuda.is_available() else \"cpu\")\n",
        "print(\"device:\", device)"
      ],
      "metadata": {
        "colab": {
          "base_uri": "https://localhost:8080/"
        },
        "id": "tEkGhNSnGM1w",
        "outputId": "aa740b54-e9df-49f4-d8d7-3d6d37d9cb08"
      },
      "execution_count": null,
      "outputs": [
        {
          "output_type": "stream",
          "name": "stdout",
          "text": [
            "device: cpu\n"
          ]
        }
      ]
    },
    {
      "cell_type": "code",
      "source": [
        "# LOAD WORD EMBEDDINGS TECHNIQUE 1 MODEL\n",
        "\n",
        "# Tokenizer Vocab Sizes\n",
        "vocab_size_def = sp_def.get_piece_size()\n",
        "vocab_size_word = sp_word.get_piece_size()\n",
        "\n",
        "# HYPERPARAMETERS\n",
        "max_word_len_1 = 6\n",
        "max_def_len = 48\n",
        "learning_rate = 0.001\n",
        "\n",
        "# MODEL\n",
        "definitions= dataset[\"definition\"].tolist()\n",
        "words= dataset[\"word\"].tolist()\n",
        "\n",
        "model = DefToWordModel(vocab_size_def=vocab_size_def, vocab_size_word=vocab_size_word, embed_dim=128, word_len=max_word_len_1).to(device)\n",
        "\n",
        "file_id = '1-3MawobTPlvljgKrn47UnJh2mWPTWlWG'\n",
        "url = f'https://drive.google.com/uc?id={file_id}'\n",
        "\n",
        "output_path = 'def_to_word_WE1_state_dict.pt'\n",
        "gdown.download(url, output_path, quiet=False)\n",
        "\n",
        "# Load the saved model parameters\n",
        "model.load_state_dict(torch.load(output_path,map_location=torch.device(device)))\n",
        "model.to(device)\n",
        "model.eval()\n",
        "\n",
        "# inference function for technique 1\n",
        "def predict1(definition):\n",
        "    with torch.no_grad():\n",
        "        def_ids = sp_def.encode(str(definition), out_type=int)[:max_def_len]\n",
        "        def_ids += [0] * (max_def_len - len(def_ids))\n",
        "        input_tensor = torch.tensor([def_ids], dtype=torch.long).to(device)\n",
        "        logits = model(input_tensor)\n",
        "\n",
        "        probs = torch.softmax(logits[0], dim=-1)\n",
        "        probs[:, sp_word.get_piece_size():] = 0\n",
        "\n",
        "        pred_ids = torch.argmax(probs, dim=-1).tolist()\n",
        "        return sp_word.decode(pred_ids)"
      ],
      "metadata": {
        "colab": {
          "base_uri": "https://localhost:8080/"
        },
        "id": "D_UeM1pJF8Zt",
        "outputId": "a2b020ee-2486-4da2-8c7b-db0e71d92b79"
      },
      "execution_count": null,
      "outputs": [
        {
          "output_type": "stream",
          "name": "stderr",
          "text": [
            "Downloading...\n",
            "From: https://drive.google.com/uc?id=1-3MawobTPlvljgKrn47UnJh2mWPTWlWG\n",
            "To: /content/def_to_word_WE1_state_dict.pt\n",
            "100%|██████████| 5.84M/5.84M [00:00<00:00, 39.7MB/s]\n"
          ]
        }
      ]
    },
    {
      "cell_type": "code",
      "source": [
        "# LOAD WORD EMBEDDINGS TECHNIQUE 2 MODEL\n",
        "\n",
        "# Tokenizer Vocab Sizes\n",
        "vocab_size_def = sp_def.get_piece_size()\n",
        "vocab_size_word = sp_word.get_piece_size()\n",
        "\n",
        "# HYPERPARAMETERS\n",
        "max_word_len = 1\n",
        "max_def_len = 48\n",
        "learning_rate = 0.005\n",
        "\n",
        "# MODEL\n",
        "definitions= dataset[\"definition\"].tolist()\n",
        "words= dataset[\"word\"].tolist()\n",
        "\n",
        "model2 = DefToWordModel(vocab_size_def=vocab_size_def, vocab_size_word=vocab_size_word, embed_dim=128, word_len=max_word_len).to(device)\n",
        "\n",
        "file_id = '1-2L52Q_uXbKasG1MLvNBKBtMvcLldr4f'\n",
        "url = f'https://drive.google.com/uc?id={file_id}'\n",
        "\n",
        "output_path = 'def_to_word_WE2_state_dict.pt'\n",
        "gdown.download(url, output_path, quiet=False)\n",
        "\n",
        "# Load the saved model parameters\n",
        "model2.load_state_dict(torch.load(output_path,map_location=torch.device(device)))\n",
        "model2.to(device)\n",
        "model2.eval()\n",
        "\n",
        "# inference function for technique 2\n",
        "def predict2(definition, max_gen_len=6):\n",
        "    model2.eval()\n",
        "    with torch.no_grad():\n",
        "        # Tokenize and truncate/pad definition\n",
        "        def_ids = sp_word.encode(str(definition), out_type=int)[:max_def_len]\n",
        "        output_tokens = []  # generated subword token IDs\n",
        "\n",
        "        for _ in range(max_gen_len):\n",
        "            # Prepare input: definition + generated so far\n",
        "            input_ids = def_ids + output_tokens\n",
        "            if len(input_ids) < max_def_len:\n",
        "                input_ids += [0] * (max_def_len - len(input_ids))\n",
        "            input_ids = input_ids[-max_def_len:]  # keep last max_def_len tokens\n",
        "\n",
        "            input_tensor = torch.tensor([input_ids], dtype=torch.long).to(device)\n",
        "            logits = model2(input_tensor)  # [1, vocab_size_word]\n",
        "            probs = torch.softmax(logits[0], dim=-1)\n",
        "\n",
        "            # Sample or use argmax\n",
        "            pred_token_id = torch.argmax(probs).item()\n",
        "\n",
        "            # Optionally stop if EOS or PAD token is predicted\n",
        "            if pred_token_id == 0:  # PAD\n",
        "                break\n",
        "\n",
        "            output_tokens.append(pred_token_id)\n",
        "\n",
        "        return sp_word.decode(output_tokens)"
      ],
      "metadata": {
        "colab": {
          "base_uri": "https://localhost:8080/"
        },
        "id": "CYa1xONpGEi_",
        "outputId": "5c1fec52-8361-424c-c349-bbdefe581728"
      },
      "execution_count": null,
      "outputs": [
        {
          "output_type": "stream",
          "name": "stderr",
          "text": [
            "Downloading...\n",
            "From: https://drive.google.com/uc?id=1-2L52Q_uXbKasG1MLvNBKBtMvcLldr4f\n",
            "To: /content/def_to_word_WE2_state_dict.pt\n",
            "100%|██████████| 1.71M/1.71M [00:00<00:00, 28.7MB/s]\n"
          ]
        }
      ]
    },
    {
      "cell_type": "code",
      "source": [
        "# LOAD FINE-TUNED GPT-2 MODEL\n",
        "tokenizer = GPT2Tokenizer.from_pretrained(\"gpt2\")\n",
        "tokenizer.pad_token = tokenizer.eos_token\n",
        "# Initialize a new model instance with the desired architecture\n",
        "modelG = GPT2LMHeadModel.from_pretrained(\"gpt2\")\n",
        "modelG.config.pad_token_id = tokenizer.pad_token_id\n",
        "\n",
        "file_id = '1-2F1dqPn0n_QHeJJ6mPKTyQaD2SOtp6Z'\n",
        "url = f'https://drive.google.com/uc?id={file_id}'\n",
        "\n",
        "output_path = 'def_to_word_GPT_state_dict.pt'\n",
        "gdown.download(url, output_path, quiet=False)\n",
        "\n",
        "# Load the saved state dictionary into the model\n",
        "modelG.load_state_dict(torch.load(output_path, map_location=device))\n",
        "modelG.to(device)\n",
        "modelG.eval()\n",
        "\n",
        "import textwrap\n",
        "\n",
        "# reduces repeated instances\n",
        "def trim_continuation(words):\n",
        "    if words:\n",
        "      for i in range(len(words)-1):\n",
        "          wraps = textwrap.wrap(words, i+1)\n",
        "\n",
        "          if len(wraps) < 2:\n",
        "            return words\n",
        "\n",
        "          if wraps[0] == wraps[-1]:\n",
        "            return wraps[0]\n",
        "\n",
        "\n",
        "      return words\n",
        "    return \"\"\n",
        "\n",
        "\n",
        "def predict(definition, max_new_tokens=3, max_len = 4, num_beams=3):\n",
        "    # tokenize the definition\n",
        "    inputs = tokenizer(definition, return_tensors=\"pt\").to(device)\n",
        "\n",
        "    tokens_generated = {}\n",
        "\n",
        "    # run through model\n",
        "    outputs = modelG.generate(\n",
        "        **inputs,\n",
        "        max_new_tokens=max_new_tokens,\n",
        "        num_beams=num_beams,\n",
        "        early_stopping=True,\n",
        "        pad_token_id=tokenizer.eos_token_id\n",
        "    )\n",
        "\n",
        "    # decode output\n",
        "    text = tokenizer.decode(outputs[0], skip_special_tokens=True)\n",
        "    # remove original definition\n",
        "    continuation = text[len(definition):]\n",
        "    # get the first word of the continuation\n",
        "    return trim_continuation(continuation.split()[0] if continuation else \"\")"
      ],
      "metadata": {
        "colab": {
          "base_uri": "https://localhost:8080/"
        },
        "id": "6-VlFbDeGXrC",
        "outputId": "e6bddb62-f7c3-4e6d-832a-4dc3e2de4714"
      },
      "execution_count": null,
      "outputs": [
        {
          "output_type": "stream",
          "name": "stderr",
          "text": [
            "Downloading...\n",
            "From (original): https://drive.google.com/uc?id=1-2F1dqPn0n_QHeJJ6mPKTyQaD2SOtp6Z\n",
            "From (redirected): https://drive.google.com/uc?id=1-2F1dqPn0n_QHeJJ6mPKTyQaD2SOtp6Z&confirm=t&uuid=bb4818b6-6d85-494e-b64a-8778e64e47fd\n",
            "To: /content/def_to_word_GPT_state_dict.pt\n",
            "100%|██████████| 498M/498M [00:05<00:00, 98.8MB/s]\n"
          ]
        }
      ]
    },
    {
      "cell_type": "code",
      "source": [
        "## We used a few words not included in our dictionary we used for training to use as our test dataset\n",
        "definition_word_pairs = {\n",
        "    \"A pleasant smell that frequently accompanies the first rain after a long period of warm, dry weather.\": \"petrichor\",\n",
        "    \"The realization that each random passerby is living a life as vivid and complex as your own.\": \"sonder\",\n",
        "    \"A state of tiredness or weariness.\": \"lassitude\",\n",
        "    \"The act of buying books and letting them pile up, unread.\": \"tsundoku\",\n",
        "    \"A humorous or witty remark.\": \"quip\",\n",
        "    \"A fear or hatred of technology or complex machines.\": \"technophobia\",\n",
        "    \"The act of identifying oneself with and understanding another’s situation or feelings.\": \"empathy\",\n",
        "    \"A person who leads a secluded or solitary life.\": \"recluse\",\n",
        "    \"A word or name formed by rearranging the letters of another.\": \"anagram\",\n",
        "    \"The use of unnecessarily long or complicated words.\": \"sesquipedalianism\",\n",
        "    \"Alien robots from the planet cybertron that can morph into various forms of transportation\":\"transformer\",\n",
        "    \"a person thats born from parents that hae no magic and they themselves dont have magic\":\"muggle\",\n",
        "    \"the underworld that can be accessed via an obsidian portal\": \"nether\",\n",
        "    \"a being that mimics other crewmates and tries to kill them all without being discovered\":\"imposter\"\n",
        "}\n",
        "\n",
        "\n",
        "for definition in definition_word_pairs:\n",
        "    predicted = predict(definition)\n",
        "    actual = definition_word_pairs[definition]\n",
        "    print(f\"Definition: {definition}\\n\")\n",
        "    print(f\"Predicted word for Word Embeddings T1: {predict1(definition)}\")\n",
        "    print(f\"Predicted word for Word Embeddings T2: {predict2(definition)}\")\n",
        "    print(f\"Predicted word for Transformer: {predict(definition)}\\n\")\n",
        "    print(f\"Actual word: {actual}\\n\")\n",
        "    print(\"-----------------------------------------------------------------\\n\")\n",
        "\n",
        "# random_definitions = random.sample(list(definition_to_word.keys()), num_samples)\n",
        "\n",
        "# for definition in random_definitions:\n",
        "#     predicted = predict(definition)\n",
        "#     actual = definition_to_word[definition]\n",
        "#     print(f\"Definition: {definition}\\n\")\n",
        "#     print(f\"Predicted word for Word Embeddings T1: {predict1(definition)}\")\n",
        "#     print(f\"Predicted word for Word Embeddings T2: {predict2(definition)}\")\n",
        "#     print(f\"Predicted word for Transformer: {predict(definition)}\\n\")\n",
        "#     print(f\"Actual word: {actual}\\n\")\n",
        "#     print(\"-----------------------------------------------------------------\\n\")"
      ],
      "metadata": {
        "colab": {
          "base_uri": "https://localhost:8080/"
        },
        "id": "EMqwRQ-lGjXC",
        "outputId": "4a080086-3339-48a0-d0a3-d80a873b1954"
      },
      "execution_count": null,
      "outputs": [
        {
          "output_type": "stream",
          "name": "stdout",
          "text": [
            "Definition: A pleasant smell that frequently accompanies the first rain after a long period of warm, dry weather.\n",
            "\n",
            "Predicted word for Word Embeddings T1: wereningeren\n",
            "Predicted word for Word Embeddings T2: w woolooloolool\n",
            "Predicted word for Transformer: sum\n",
            "\n",
            "Actual word: petrichor\n",
            "\n",
            "-----------------------------------------------------------------\n",
            "\n",
            "Definition: The realization that each random passerby is living a life as vivid and complex as your own.\n",
            "\n",
            "Predicted word for Word Embeddings T1: wymayain\n",
            "Predicted word for Word Embeddings T2: ungoungoung y\n",
            "Predicted word for Transformer: ment\n",
            "\n",
            "Actual word: sonder\n",
            "\n",
            "-----------------------------------------------------------------\n",
            "\n",
            "Definition: A state of tiredness or weariness.\n",
            "\n",
            "Predicted word for Word Embeddings T1: wyyyeren\n",
            "Predicted word for Word Embeddings T2: day wday weekeek\n",
            "Predicted word for Transformer: iness\n",
            "\n",
            "Actual word: lassitude\n",
            "\n",
            "-----------------------------------------------------------------\n",
            "\n",
            "Definition: The act of buying books and letting them pile up, unread.\n",
            "\n",
            "Predicted word for Word Embeddings T1: waryyingy\n",
            "Predicted word for Word Embeddings T2: ography wography wography w\n",
            "Predicted word for Transformer: bookletment\n",
            "\n",
            "Actual word: tsundoku\n",
            "\n",
            "-----------------------------------------------------------------\n",
            "\n",
            "Definition: A humorous or witty remark.\n",
            "\n",
            "Predicted word for Word Embeddings T1: whiteloninle\n",
            "Predicted word for Word Embeddings T2: day w wday week\n",
            "Predicted word for Transformer: gawkish\n",
            "\n",
            "Actual word: quip\n",
            "\n",
            "-----------------------------------------------------------------\n",
            "\n",
            "Definition: A fear or hatred of technology or complex machines.\n",
            "\n",
            "Predicted word for Word Embeddings T1: woypheria\n",
            "Predicted word for Word Embeddings T2: weeeeison\n",
            "Predicted word for Transformer: ophobia\n",
            "\n",
            "Actual word: technophobia\n",
            "\n",
            "-----------------------------------------------------------------\n",
            "\n",
            "Definition: The act of identifying oneself with and understanding another’s situation or feelings.\n",
            "\n",
            "Predicted word for Word Embeddings T1: weingyeri\n",
            "Predicted word for Word Embeddings T2: iceiceice wiceice\n",
            "Predicted word for Transformer: stomata\n",
            "\n",
            "Actual word: empathy\n",
            "\n",
            "-----------------------------------------------------------------\n",
            "\n",
            "Definition: A person who leads a secluded or solitary life.\n",
            "\n",
            "Predicted word for Word Embeddings T1: whkerererist\n",
            "Predicted word for Word Embeddings T2: y yungo yo\n",
            "Predicted word for Transformer: d\n",
            "\n",
            "Actual word: recluse\n",
            "\n",
            "-----------------------------------------------------------------\n",
            "\n",
            "Definition: A word or name formed by rearranging the letters of another.\n",
            "\n",
            "Predicted word for Word Embeddings T1: wintilinon\n",
            "Predicted word for Word Embeddings T2: wooloolooloolool\n",
            "Predicted word for Transformer: reanagram\n",
            "\n",
            "Actual word: anagram\n",
            "\n",
            "-----------------------------------------------------------------\n",
            "\n",
            "Definition: The use of unnecessarily long or complicated words.\n",
            "\n",
            "Predicted word for Word Embeddings T1: wyageyeren\n",
            "Predicted word for Word Embeddings T2: wooloolooloolool\n",
            "Predicted word for Transformer: enophobiaophobia\n",
            "\n",
            "Actual word: sesquipedalianism\n",
            "\n",
            "-----------------------------------------------------------------\n",
            "\n",
            "Definition: Alien robots from the planet cybertron that can morph into various forms of transportation\n",
            "\n",
            "Predicted word for Word Embeddings T1: whelingssist\n",
            "Predicted word for Word Embeddings T2: inginginginginging\n",
            "Predicted word for Transformer: cybertron\n",
            "\n",
            "Actual word: transformer\n",
            "\n",
            "-----------------------------------------------------------------\n",
            "\n",
            "Definition: a person thats born from parents that hae no magic and they themselves dont have magic\n",
            "\n",
            "Predicted word for Word Embeddings T1: wpoloisten\n",
            "Predicted word for Word Embeddings T2: y y womanomano\n",
            "Predicted word for Transformer: herdermis\n",
            "\n",
            "Actual word: muggle\n",
            "\n",
            "-----------------------------------------------------------------\n",
            "\n",
            "Definition: the underworld that can be accessed via an obsidian portal\n",
            "\n",
            "Predicted word for Word Embeddings T1: wyeroinen\n",
            "Predicted word for Word Embeddings T2: w y womanomano\n",
            "Predicted word for Transformer: ment\n",
            "\n",
            "Actual word: nether\n",
            "\n",
            "-----------------------------------------------------------------\n",
            "\n",
            "Definition: a being that mimics other crewmates and tries to kill them all without being discovered\n",
            "\n",
            "Predicted word for Word Embeddings T1: whalizeryery\n",
            "Predicted word for Word Embeddings T2: y y wkkk\n",
            "Predicted word for Transformer: dissis\n",
            "\n",
            "Actual word: imposter\n",
            "\n",
            "-----------------------------------------------------------------\n",
            "\n"
          ]
        }
      ]
    },
    {
      "cell_type": "markdown",
      "source": [
        "As we can see, the predictive capabilities of the word embeddings model is really rudimentary. The predicted word for the first WE technique seems to be better than the second technique to the human eye, since it seems to be in syntactic form of a word. Conversely, the second WE technique seems to be a bunch of words bunched together, and clearly doesn't have a clear syntactic form.\n",
        "\n",
        "On the other hand, the transformer model does a very good job of predicting real words, but doesn't necessarily predict \"fake words\" as we hoped earlier. However, it does seem to perform the best out of our three models."
      ],
      "metadata": {
        "id": "opiDT9zmObTI"
      }
    },
    {
      "cell_type": "markdown",
      "source": [
        "# ***Results and Discussions for Word Embeddings***"
      ],
      "metadata": {
        "id": "h9BzuNTkgwj0"
      }
    },
    {
      "cell_type": "markdown",
      "source": [
        "# **Word Embeddings Technique 1 Experiment**\n",
        "\n",
        "Predict whole word all at once(sequence of 6 most likely tokens)\n",
        "\n",
        "Outputs appear random at times and aren't coherent with respect to the definition."
      ],
      "metadata": {
        "id": "ULwL_UIvoFvm"
      }
    },
    {
      "cell_type": "code",
      "source": [
        "token_counter = Counter()\n",
        "num_samples = 10000  # or len(definition_to_word) for all\n",
        "\n",
        "# Sample\n",
        "sampled_definitions = random.sample(list(definition_to_word.keys()), num_samples)\n",
        "\n",
        "model.eval()\n",
        "with torch.no_grad():\n",
        "    for definition in sampled_definitions:\n",
        "        def_ids = sp_def.encode(definition, out_type=int)[:max_def_len]\n",
        "        def_ids += [0] * (max_def_len - len(def_ids))\n",
        "        input_tensor = torch.tensor([def_ids], dtype=torch.long).to(device)\n",
        "\n",
        "        logits = model(input_tensor)\n",
        "        pred_ids = torch.argmax(logits[0], dim=-1).tolist()\n",
        "\n",
        "        token_counter.update(pred_ids)"
      ],
      "metadata": {
        "id": "70Xz3m_fmNUE"
      },
      "execution_count": null,
      "outputs": []
    },
    {
      "cell_type": "code",
      "source": [
        "# Convert token IDs to subword pieces\n",
        "most_common = token_counter.most_common(20)\n",
        "tokens = [sp_word.id_to_piece(tok_id) for tok_id, _ in most_common]\n",
        "frequencies = [count for _, count in most_common]\n",
        "\n",
        "# Plot\n",
        "plt.figure(figsize=(12, 6))\n",
        "plt.bar(tokens, frequencies)\n",
        "plt.title(\"Top 20 Most Frequently Predicted Subword Tokens\")\n",
        "plt.xlabel(\"Subword Token\")\n",
        "plt.ylabel(\"Frequency\")\n",
        "plt.xticks(rotation=45)\n",
        "plt.grid(axis='y')\n",
        "plt.tight_layout()\n",
        "plt.show()"
      ],
      "metadata": {
        "colab": {
          "base_uri": "https://localhost:8080/",
          "height": 607
        },
        "id": "nr1yOsD4mPWA",
        "outputId": "388ba3a5-2f72-45da-936f-90d1e8048349"
      },
      "execution_count": null,
      "outputs": [
        {
          "output_type": "display_data",
          "data": {
            "text/plain": [
              "<Figure size 1200x600 with 1 Axes>"
            ],
            "image/png": "[encoded data removed]"
          },
          "metadata": {}
        }
      ]
    },
    {
      "cell_type": "code",
      "source": [
        "from collections import defaultdict, Counter\n",
        "import numpy as np\n",
        "from tqdm import tqdm\n",
        "\n",
        "model.eval()\n",
        "\n",
        "# Store: for each true token x at position t → list of model predicted probs\n",
        "conditional_probs = defaultdict(list)\n",
        "ground_truth_counts = Counter()\n",
        "\n",
        "with torch.no_grad():\n",
        "    for definition, word in tqdm(definition_to_word.items()):\n",
        "        def_ids = sp_def.encode(str(definition), out_type=int)[:max_def_len]\n",
        "        def_ids += [0] * (max_def_len - len(def_ids))\n",
        "\n",
        "        word_ids = sp_word.encode(str(word), out_type=int)\n",
        "        if not word_ids:\n",
        "            continue\n",
        "\n",
        "        # pad or truncate target\n",
        "        word_ids = word_ids[:max_word_len]\n",
        "        word_ids += [0] * (max_word_len - len(word_ids))\n",
        "\n",
        "        input_tensor = torch.tensor([def_ids], dtype=torch.long).to(device)\n",
        "        logits = model(input_tensor)[0]  # shape [word_len, vocab_size_word]\n",
        "\n",
        "        probs = torch.softmax(logits, dim=-1).cpu().numpy()  # shape [word_len, vocab_size_word]\n",
        "\n",
        "        for t, true_token in enumerate(word_ids):\n",
        "            conditional_probs[true_token].append(probs[t])  # model's predicted dist at position t\n",
        "            ground_truth_counts[true_token] += 1\n",
        "\n",
        "total_count = sum(ground_truth_counts.values())\n",
        "H_Y_given_X = 0.0\n",
        "\n",
        "for x, prob_list in conditional_probs.items():\n",
        "    p_x = ground_truth_counts[x] / total_count\n",
        "    avg_entropy = 0.0\n",
        "\n",
        "    for p_y_given_x in prob_list:\n",
        "        log_p = np.log2(np.clip(p_y_given_x, 1e-12, 1.0))  # avoid log(0)\n",
        "        entropy = -np.sum(p_y_given_x * log_p)\n",
        "        avg_entropy += entropy\n",
        "\n",
        "    avg_entropy /= len(prob_list)\n",
        "    H_Y_given_X += p_x * avg_entropy\n",
        "\n",
        "print(f\"Conditional Entropy H(Y|X): {H_Y_given_X:.4f} bits\")\n"
      ],
      "metadata": {
        "colab": {
          "base_uri": "https://localhost:8080/"
        },
        "id": "EUhdPFlRw8rP",
        "outputId": "51f203d6-41b7-40df-ef53-465fca1b701b"
      },
      "execution_count": null,
      "outputs": [
        {
          "output_type": "stream",
          "name": "stderr",
          "text": [
            "100%|██████████| 52607/52607 [00:42<00:00, 1243.44it/s]\n"
          ]
        },
        {
          "output_type": "stream",
          "name": "stdout",
          "text": [
            "Conditional Entropy H(Y|X): 3.6557 bits\n"
          ]
        }
      ]
    },
    {
      "cell_type": "markdown",
      "source": [
        "# **Word Embeddings Technique 2 Experiment**\n",
        "\n",
        "Predict the next token based on the sequence of tokens(max seq length of 6)"
      ],
      "metadata": {
        "id": "AG_yItBjwrPM"
      }
    },
    {
      "cell_type": "code",
      "source": [
        "token_counter = Counter()\n",
        "num_samples = 10000  # or len(definition_to_word) for all\n",
        "\n",
        "# Sample\n",
        "sampled_definitions = random.sample(list(definition_to_word.keys()), num_samples)\n",
        "\n",
        "model2.eval()\n",
        "with torch.no_grad():\n",
        "    for definition in sampled_definitions:\n",
        "        def_ids = sp_def.encode(definition, out_type=int)[:max_def_len]\n",
        "        def_ids += [0] * (max_def_len - len(def_ids))\n",
        "        input_tensor = torch.tensor([def_ids], dtype=torch.long).to(device)\n",
        "\n",
        "        logits = model2(input_tensor)\n",
        "        pred_ids = torch.argmax(logits[0], dim=-1).tolist()\n",
        "\n",
        "        token_counter.update(pred_ids)"
      ],
      "metadata": {
        "id": "TXL1flP5xvQ3"
      },
      "execution_count": null,
      "outputs": []
    },
    {
      "cell_type": "code",
      "source": [
        "# Convert token IDs to subword pieces\n",
        "most_common = token_counter.most_common(20)\n",
        "tokens = [sp_word.id_to_piece(tok_id) for tok_id, _ in most_common]\n",
        "frequencies = [count for _, count in most_common]\n",
        "\n",
        "# Plot\n",
        "plt.figure(figsize=(12, 6))\n",
        "plt.bar(tokens, frequencies)\n",
        "plt.title(\"Top 20 Most Frequently Predicted Subword Tokens\")\n",
        "plt.xlabel(\"Subword Token\")\n",
        "plt.ylabel(\"Frequency\")\n",
        "plt.xticks(rotation=45)\n",
        "plt.grid(axis='y')\n",
        "plt.tight_layout()\n",
        "plt.show()"
      ],
      "metadata": {
        "id": "aqo_4SNQxwuG",
        "colab": {
          "base_uri": "https://localhost:8080/",
          "height": 607
        },
        "outputId": "a0ef0018-4a2e-4eb5-ef00-d8c0473c97e9"
      },
      "execution_count": null,
      "outputs": [
        {
          "output_type": "display_data",
          "data": {
            "text/plain": [
              "<Figure size 1200x600 with 1 Axes>"
            ],
            "image/png": "[encoded data removed]"
          },
          "metadata": {}
        }
      ]
    },
    {
      "cell_type": "code",
      "source": [
        "# Collect p(y | x) for each true token x\n",
        "conditional_probs = defaultdict(list)\n",
        "ground_truth_counts = Counter()\n",
        "\n",
        "sampled_definitions = random.sample(list(definition_to_word.items()), num_samples)\n",
        "\n",
        "model2.eval()\n",
        "with torch.no_grad():\n",
        "    for definition, word in tqdm(sampled_definitions):\n",
        "        def_ids = sp_def.encode(str(definition), out_type=int)[:max_def_len]\n",
        "        word_ids = sp_word.encode(str(word), out_type=int)\n",
        "\n",
        "        for word_idx in range(len(word_ids)):\n",
        "            # Input is definition + previous subword tokens\n",
        "            def_tks = def_ids + word_ids[0:word_idx]\n",
        "            def_tks += [0] * (max_def_len - len(def_tks))\n",
        "            def_tks = def_tks[-max_def_len:]\n",
        "\n",
        "            input_tensor = torch.tensor([def_tks], dtype=torch.long).to(device)\n",
        "            logits = model2(input_tensor)  # [1, vocab_size_word]\n",
        "            probs = torch.softmax(logits[0], dim=-1).cpu().numpy()\n",
        "\n",
        "            true_token = word_ids[word_idx]\n",
        "            conditional_probs[true_token].append(probs)\n",
        "            ground_truth_counts[true_token] += 1\n",
        "\n",
        "total_count = sum(ground_truth_counts.values())\n",
        "H_Y_given_X = 0.0\n",
        "\n",
        "for x, prob_list in conditional_probs.items():\n",
        "    p_x = ground_truth_counts[x] / total_count\n",
        "    avg_cond_entropy = 0.0\n",
        "\n",
        "    for p_y_given_x in prob_list:\n",
        "        log_p = np.log2(np.clip(p_y_given_x, 1e-12, 1.0))  # avoid log(0)\n",
        "        entropy = -np.sum(p_y_given_x * log_p)\n",
        "        avg_cond_entropy += entropy\n",
        "\n",
        "    avg_cond_entropy /= len(prob_list)\n",
        "    H_Y_given_X += p_x * avg_cond_entropy\n",
        "\n",
        "print(f\"Conditional Entropy H(Y|X): {H_Y_given_X:.4f} bits\")\n",
        "\n"
      ],
      "metadata": {
        "id": "o82tsDnH0TxO",
        "colab": {
          "base_uri": "https://localhost:8080/"
        },
        "outputId": "a879d9b6-e2ea-49bb-886b-1b016bed9347"
      },
      "execution_count": null,
      "outputs": [
        {
          "output_type": "stream",
          "name": "stderr",
          "text": [
            "100%|██████████| 10000/10000 [00:10<00:00, 979.47it/s]\n"
          ]
        },
        {
          "output_type": "stream",
          "name": "stdout",
          "text": [
            "Conditional Entropy H(Y|X): 2.2565 bits\n"
          ]
        }
      ]
    },
    {
      "cell_type": "markdown",
      "source": [
        "# Entropy Analysis For Word Embeddings\n",
        "\n",
        "The conditional entropy for the 1st technique and 2nd technique respectively were **~4.9 bits** and **~2.2 bits bits**.\n",
        "\n",
        "**1st Technique (Higher Entropy)**:\n",
        "\n",
        "*   Predicts all tokens simultaneously, with no feedback from previous generated tokens.\n",
        "*   Each output token is predicted independently, conditioned only on the definition embedding\n",
        "*   As a result, the model has less contextual information at each token position (it doesn't know what it has already predicted).\n",
        "*   This causes greater uncertainty (higher entropy) in its predictions, especially for mid- or later subword positions.\n",
        "\n",
        "**2nd Technique (Lower Entropy)**:\n",
        "\n",
        "*   This model predicts tokens one by one — each token is conditioned on the definition + previously predicted tokens.\n",
        "*   This allows the model to build structure over time, e.g., starting with \"▁ab\" makes \"ash\" more likely.\n",
        "*   The extra context at each step leads to sharper, more confident predictions, reducing entropy.\n",
        "\n",
        "We know that the first technique predicted the word's tokens all at once while the 2nd technique predicted the word token by token sequentially. For the first technique, the model doesn't necessarily know what it's already said, so it has to hedge its bets. For the second technique, the model has stronger constraints at each step and can \"commit\" to a more coherent sequence.\n",
        "\n",
        "**Experimental Question**: Does the model, when generating words from definitions, over-rely on a small subset of subword tokens?\n",
        "\n",
        "**Answer**: Yes — based on our findings (especially the conditional entropy values and token frequency histogram), our model does show signs of over-relying on a small subset of subword tokens, particularly when using the parallel prediction approach (first technique).\n",
        "\n",
        "A small set of tokens (like \"▁w\", \"fish\", \"wood\", etc.) appear disproportionately often in predictions.\n",
        "\n",
        "This indicates that, regardless of the input definition, the model tends to fall back on the same subword patterns."
      ],
      "metadata": {
        "id": "o-vTlmrRKlat"
      }
    },
    {
      "cell_type": "markdown",
      "source": [
        "\n",
        "\n",
        "---\n",
        "\n",
        "\n",
        "\n",
        "---\n",
        "\n"
      ],
      "metadata": {
        "id": "SU4mCz5aXNCZ"
      }
    },
    {
      "cell_type": "markdown",
      "source": [
        "# ***Results and Discussions for Multi-headed Attention***"
      ],
      "metadata": {
        "id": "gWb36Sal0Y_4"
      }
    },
    {
      "cell_type": "markdown",
      "source": [
        "# **Multi-headed Attention Experiment**\n",
        "\n",
        "Finds most likely sequence of tokens out of 10 beams.\n",
        "\n",
        "Outputs are coherent sometimes and sometimes outputs match the exact label. Qualitatively, the outputs from multi-headed attention are much more comprehensive and interpretable compared to results from word embeddings.\n",
        "\n",
        "Calculates conditional entropy of outputs."
      ],
      "metadata": {
        "id": "DnWChk8E9Abr"
      }
    },
    {
      "cell_type": "code",
      "source": [
        "if training_flag:\n",
        "  token_counter = Counter()\n",
        "  num_samples = 1000\n",
        "  sampled_defs = random.sample(list(definition_to_word.keys()), num_samples)\n",
        "\n",
        "  #count\n",
        "  for definition in sampled_defs:\n",
        "      pred = predict(definition)\n",
        "      token_counter[pred] += 1\n",
        "\n",
        "  # Plot top 20\n",
        "  most_common = token_counter.most_common(20)\n",
        "  words_top = [w for w,_ in most_common]\n",
        "  freqs     = [c for _,c in most_common]\n",
        "\n",
        "  plt.figure(figsize=(12,6))\n",
        "  plt.bar(words_top, freqs)\n",
        "  plt.title(f\"Top 20 Most Frequently Predicted Words out of {num_samples} samples(Transformer)\")\n",
        "  plt.xlabel(\"Predicted Word\")\n",
        "  plt.ylabel(\"Frequency\")\n",
        "  plt.xticks(rotation=45, ha=\"right\")\n",
        "  plt.tight_layout()\n",
        "  plt.show()\n"
      ],
      "metadata": {
        "id": "xqs47M8WW7zM"
      },
      "execution_count": null,
      "outputs": []
    },
    {
      "cell_type": "code",
      "source": [
        "if training_flag:\n",
        "  conditional_counts = defaultdict(Counter)\n",
        "  ground_counts      = Counter()\n",
        "\n",
        "  num_samples = 1000\n",
        "  sampled_defs = random.sample(list(definition_to_word.items()), num_samples)\n",
        "\n",
        "  for definition, actual in sampled_defs:\n",
        "      pred = predict(definition)\n",
        "      conditional_counts[actual][pred] += 1\n",
        "      ground_counts[actual]      += 1\n",
        "\n",
        "  total = sum(ground_counts.values())\n",
        "  H_Y_given_X = 0.0\n",
        "\n",
        "  for x, counter in conditional_counts.items():\n",
        "      p_x   = ground_counts[x] / total\n",
        "      total_x = sum(counter.values())\n",
        "      H_x     = 0.0\n",
        "      for count_xy in counter.values():\n",
        "          p_y_given_x = count_xy / total_x\n",
        "          H_x += -p_y_given_x * np.log2(p_y_given_x)\n",
        "      H_Y_given_X += p_x * H_x\n",
        "\n",
        "  print(f\"Conditional Entropy H(Y|X): {H_Y_given_X:.4f} bits\")"
      ],
      "metadata": {
        "id": "ZRLoyVAS7bsE"
      },
      "execution_count": null,
      "outputs": []
    },
    {
      "cell_type": "markdown",
      "source": [
        "# Entropy Analysis for Multi-headed Attention"
      ],
      "metadata": {
        "id": "hH5Ccb-s9Gcx"
      }
    },
    {
      "cell_type": "markdown",
      "source": [
        "The conditional entropy for 10000 samples of multi-headed attention was **~0.02 bits**.\n",
        "\n",
        "Considering word embeddings as a baseline, we can see that for the first technique using word embeddings that calculating each token in parallel resulted in a \"safe\" bet for each token but was also the **most uncertain(4.9)** out of the three. For the second technique using word embeddings, we calculated each token sequentially and this brought the entropy down by around half(**2.2**) because it could condition on previous outputs.\n",
        "\n",
        "For this model, when given the next true subword token, can predict it with a very high level of certainty as seen with a very low conditional entropy. The model no longer hedges its bets by averaging but instead can pay full attention to pick the next subword.\n",
        "\n",
        "\n",
        "**Experimental Question**: Can this reliance be mitigated through architectural choices like multi-headed attention?\n",
        "\n",
        "**Answer**: Yes. That's because multi-headed self-attention gives the head a token-level representation of the entire definition allowing it to detext subtle semantic cues and patterns.\n",
        "\n",
        "Each attention head in the transformer can specialize and focus on part-of-speech hints, semantic domains, etc. So the final pooled signal encodes far more information than the word embeddings do. As a result, the model no longer needs to **overrely** on “safe” tokens and can generate more diverse and accurate subwords directly from the definition."
      ],
      "metadata": {
        "id": "eWXRc0EJKq_-"
      }
    },
    {
      "cell_type": "markdown",
      "source": [
        "# ***Citations/References***"
      ],
      "metadata": {
        "id": "RhX4Yh0O0dxN"
      }
    },
    {
      "cell_type": "markdown",
      "source": [
        "HuggingFace GPT-2 Documentation:\n",
        "\n",
        "https://huggingface.co/docs/transformers/en/model_doc/gpt2\n",
        "\n",
        "Colab Notebook on Finetuning GPT-2:\n",
        "\n",
        "https://colab.research.google.com/drive/13dZVYEOMhXhkXWfvSMVM1TTtUDrT6Aeh?usp=sharing\n",
        "\n",
        "Illustrated GPT-2:\n",
        "\n",
        "https://jalammar.github.io/illustrated-gpt2/\n",
        "\n"
      ],
      "metadata": {
        "id": "opKGiAkc0hco"
      }
    }
  ]
}